{
 "cells": [
  {
   "cell_type": "markdown",
   "metadata": {},
   "source": [
    "# Load Packages and set global settings"
   ]
  },
  {
   "cell_type": "code",
   "execution_count": 10,
   "metadata": {},
   "outputs": [],
   "source": [
    "# packages\n",
    "import pandas as pd\n",
    "import plotly.express as px\n",
    "import plotly.offline as pyo\n",
    "import plotly.graph_objects as go\n",
    "import plotly.io as pio\n",
    "\n",
    "# gloabal settings\n",
    "pio.default_format = \"svg\"\n",
    "width = 17.64 * 37.795275591# cm to px\n",
    "height = 7.28 * 37.795275591# cm to px\n",
    "pio.default_width = width\n",
    "pio.default_height = height"
   ]
  },
  {
   "cell_type": "markdown",
   "metadata": {},
   "source": [
    "# Global Variables"
   ]
  },
  {
   "cell_type": "code",
   "execution_count": 11,
   "metadata": {},
   "outputs": [],
   "source": [
    "# Path to the data Folder\n",
    "DataPath = '\\\\\\\\FS01\\\\UserShares\\\\Kilian.Helfenbein\\\\github\\\\MA-KH-RLI\\\\vis-recherche\\\\data\\\\'"
   ]
  },
  {
   "cell_type": "markdown",
   "metadata": {},
   "source": [
    "# Visualisation - Network Expension Costs"
   ]
  },
  {
   "cell_type": "code",
   "execution_count": 12,
   "metadata": {
    "scrolled": true
   },
   "outputs": [],
   "source": [
    "# Read data and sum up different EPkw-Types\n",
    "df_DS_CAPEX = pd.read_excel(DataPath + 'DS_CAPEX.xlsx', parse_dates=[2], index_col=[0,1,2])"
   ]
  },
  {
   "cell_type": "code",
   "execution_count": 13,
   "metadata": {},
   "outputs": [],
   "source": [
    "df_2050 = df_DS_CAPEX.loc[:,:,'2050-01-01']"
   ]
  },
  {
   "cell_type": "code",
   "execution_count": 14,
   "metadata": {
    "scrolled": true
   },
   "outputs": [],
   "source": [
    "RLI_CMAP_CORPORATE_DESIGN = ['rgba(000, 046, 080, 1.0)',\n",
    "                             'rgba(051, 088, 115, 1.0)',\n",
    "                             'rgba(102, 130, 150, 1.0)',\n",
    "                             'rgba(153, 171, 185, 1.0)',\n",
    "                             'rgba(204, 213, 220, 1.0)']\n",
    "RLI_CMAP_PRES = ['rgba(193, 211, 234, 1.0)',\n",
    "                 'rgba(157, 188, 225, 1.0)',\n",
    "                 'rgba(108, 162, 215, 1.0)',\n",
    "                 'rgba(083, 142, 196, 1.0)',\n",
    "                 'rgba(072, 124, 172, 1.0)',\n",
    "                 'rgba(058, 101, 141, 1.0)']"
   ]
  },
  {
   "cell_type": "code",
   "execution_count": 28,
   "metadata": {
    "scrolled": false
   },
   "outputs": [
    {
     "data": {
      "application/vnd.plotly.v1+json": {
       "config": {
        "plotlyServerURL": "https://plot.ly"
       },
       "data": [
        {
         "marker": {
          "color": "rgba(193, 211, 234, 1.0)"
         },
         "name": "NS",
         "showlegend": true,
         "type": "bar",
         "x": [
          [
           "dena",
           "dena",
           "dena",
           "Agora",
           "Agora",
           "Agora",
           "Agora",
           "BCG",
           "BCG",
           "BCG"
          ],
          [
           "Referenz",
           "Technologiemix",
           "Elektrifizierung",
           "M1 (gesteuert+) 11 kW",
           "F3 (gesteuert+) 11 kW",
           "M1 (gesteuert) 11 kW",
           "F3 (gesteuert) 11 kW",
           "Referenz",
           "80%-Pfad",
           "95%-Pfad"
          ],
          [
           [
            "dena",
            "Referenz"
           ],
           [
            "dena",
            "Technologiemix"
           ],
           [
            "dena",
            "Elektrifizierung"
           ],
           [
            "Agora",
            "M1 (gesteuert+) 11 kW"
           ],
           [
            "Agora",
            "F3 (gesteuert+) 11 kW"
           ],
           [
            "Agora",
            "M1 (gesteuert) 11 kW"
           ],
           [
            "Agora",
            "F3 (gesteuert) 11 kW"
           ],
           [
            "BCG",
            "Referenz"
           ],
           [
            "BCG",
            "80%-Pfad"
           ],
           [
            "BCG",
            "95%-Pfad"
           ]
          ]
         ],
         "y": [
          12.9,
          72.8,
          149.8,
          12,
          17,
          36,
          47,
          25,
          35,
          38
         ]
        },
        {
         "marker": {
          "color": "rgba(157, 188, 225, 1.0)"
         },
         "name": "MS",
         "showlegend": true,
         "type": "bar",
         "x": [
          [
           "dena",
           "dena",
           "dena",
           "Agora",
           "Agora",
           "Agora",
           "Agora",
           "BCG",
           "BCG",
           "BCG"
          ],
          [
           "Referenz",
           "Technologiemix",
           "Elektrifizierung",
           "M1 (gesteuert+) 11 kW",
           "F3 (gesteuert+) 11 kW",
           "M1 (gesteuert) 11 kW",
           "F3 (gesteuert) 11 kW",
           "Referenz",
           "80%-Pfad",
           "95%-Pfad"
          ],
          [
           [
            "dena",
            "Referenz"
           ],
           [
            "dena",
            "Technologiemix"
           ],
           [
            "dena",
            "Elektrifizierung"
           ],
           [
            "Agora",
            "M1 (gesteuert+) 11 kW"
           ],
           [
            "Agora",
            "F3 (gesteuert+) 11 kW"
           ],
           [
            "Agora",
            "M1 (gesteuert) 11 kW"
           ],
           [
            "Agora",
            "F3 (gesteuert) 11 kW"
           ],
           [
            "BCG",
            "Referenz"
           ],
           [
            "BCG",
            "80%-Pfad"
           ],
           [
            "BCG",
            "95%-Pfad"
           ]
          ]
         ],
         "y": [
          14.9,
          26.3,
          35.7,
          42,
          58,
          44,
          61,
          26,
          33,
          39
         ]
        },
        {
         "marker": {
          "color": "rgba(108, 162, 215, 1.0)"
         },
         "name": "HS",
         "showlegend": true,
         "type": "bar",
         "x": [
          [
           "dena",
           "dena",
           "dena",
           "Agora",
           "Agora",
           "Agora",
           "Agora",
           "BCG",
           "BCG",
           "BCG"
          ],
          [
           "Referenz",
           "Technologiemix",
           "Elektrifizierung",
           "M1 (gesteuert+) 11 kW",
           "F3 (gesteuert+) 11 kW",
           "M1 (gesteuert) 11 kW",
           "F3 (gesteuert) 11 kW",
           "Referenz",
           "80%-Pfad",
           "95%-Pfad"
          ],
          [
           [
            "dena",
            "Referenz"
           ],
           [
            "dena",
            "Technologiemix"
           ],
           [
            "dena",
            "Elektrifizierung"
           ],
           [
            "Agora",
            "M1 (gesteuert+) 11 kW"
           ],
           [
            "Agora",
            "F3 (gesteuert+) 11 kW"
           ],
           [
            "Agora",
            "M1 (gesteuert) 11 kW"
           ],
           [
            "Agora",
            "F3 (gesteuert) 11 kW"
           ],
           [
            "BCG",
            "Referenz"
           ],
           [
            "BCG",
            "80%-Pfad"
           ],
           [
            "BCG",
            "95%-Pfad"
           ]
          ]
         ],
         "y": [
          20,
          52,
          67.1,
          null,
          null,
          null,
          null,
          12,
          15,
          18
         ]
        }
       ],
       "layout": {
        "autosize": false,
        "template": {
         "data": {
          "bar": [
           {
            "error_x": {
             "color": "#2a3f5f"
            },
            "error_y": {
             "color": "#2a3f5f"
            },
            "marker": {
             "line": {
              "color": "white",
              "width": 0.5
             }
            },
            "type": "bar"
           }
          ],
          "barpolar": [
           {
            "marker": {
             "line": {
              "color": "white",
              "width": 0.5
             }
            },
            "type": "barpolar"
           }
          ],
          "carpet": [
           {
            "aaxis": {
             "endlinecolor": "#2a3f5f",
             "gridcolor": "#C8D4E3",
             "linecolor": "#C8D4E3",
             "minorgridcolor": "#C8D4E3",
             "startlinecolor": "#2a3f5f"
            },
            "baxis": {
             "endlinecolor": "#2a3f5f",
             "gridcolor": "#C8D4E3",
             "linecolor": "#C8D4E3",
             "minorgridcolor": "#C8D4E3",
             "startlinecolor": "#2a3f5f"
            },
            "type": "carpet"
           }
          ],
          "choropleth": [
           {
            "colorbar": {
             "outlinewidth": 0,
             "ticks": ""
            },
            "type": "choropleth"
           }
          ],
          "contour": [
           {
            "colorbar": {
             "outlinewidth": 0,
             "ticks": ""
            },
            "colorscale": [
             [
              0,
              "#0d0887"
             ],
             [
              0.1111111111111111,
              "#46039f"
             ],
             [
              0.2222222222222222,
              "#7201a8"
             ],
             [
              0.3333333333333333,
              "#9c179e"
             ],
             [
              0.4444444444444444,
              "#bd3786"
             ],
             [
              0.5555555555555556,
              "#d8576b"
             ],
             [
              0.6666666666666666,
              "#ed7953"
             ],
             [
              0.7777777777777778,
              "#fb9f3a"
             ],
             [
              0.8888888888888888,
              "#fdca26"
             ],
             [
              1,
              "#f0f921"
             ]
            ],
            "type": "contour"
           }
          ],
          "contourcarpet": [
           {
            "colorbar": {
             "outlinewidth": 0,
             "ticks": ""
            },
            "type": "contourcarpet"
           }
          ],
          "heatmap": [
           {
            "colorbar": {
             "outlinewidth": 0,
             "ticks": ""
            },
            "colorscale": [
             [
              0,
              "#0d0887"
             ],
             [
              0.1111111111111111,
              "#46039f"
             ],
             [
              0.2222222222222222,
              "#7201a8"
             ],
             [
              0.3333333333333333,
              "#9c179e"
             ],
             [
              0.4444444444444444,
              "#bd3786"
             ],
             [
              0.5555555555555556,
              "#d8576b"
             ],
             [
              0.6666666666666666,
              "#ed7953"
             ],
             [
              0.7777777777777778,
              "#fb9f3a"
             ],
             [
              0.8888888888888888,
              "#fdca26"
             ],
             [
              1,
              "#f0f921"
             ]
            ],
            "type": "heatmap"
           }
          ],
          "heatmapgl": [
           {
            "colorbar": {
             "outlinewidth": 0,
             "ticks": ""
            },
            "colorscale": [
             [
              0,
              "#0d0887"
             ],
             [
              0.1111111111111111,
              "#46039f"
             ],
             [
              0.2222222222222222,
              "#7201a8"
             ],
             [
              0.3333333333333333,
              "#9c179e"
             ],
             [
              0.4444444444444444,
              "#bd3786"
             ],
             [
              0.5555555555555556,
              "#d8576b"
             ],
             [
              0.6666666666666666,
              "#ed7953"
             ],
             [
              0.7777777777777778,
              "#fb9f3a"
             ],
             [
              0.8888888888888888,
              "#fdca26"
             ],
             [
              1,
              "#f0f921"
             ]
            ],
            "type": "heatmapgl"
           }
          ],
          "histogram": [
           {
            "marker": {
             "colorbar": {
              "outlinewidth": 0,
              "ticks": ""
             }
            },
            "type": "histogram"
           }
          ],
          "histogram2d": [
           {
            "colorbar": {
             "outlinewidth": 0,
             "ticks": ""
            },
            "colorscale": [
             [
              0,
              "#0d0887"
             ],
             [
              0.1111111111111111,
              "#46039f"
             ],
             [
              0.2222222222222222,
              "#7201a8"
             ],
             [
              0.3333333333333333,
              "#9c179e"
             ],
             [
              0.4444444444444444,
              "#bd3786"
             ],
             [
              0.5555555555555556,
              "#d8576b"
             ],
             [
              0.6666666666666666,
              "#ed7953"
             ],
             [
              0.7777777777777778,
              "#fb9f3a"
             ],
             [
              0.8888888888888888,
              "#fdca26"
             ],
             [
              1,
              "#f0f921"
             ]
            ],
            "type": "histogram2d"
           }
          ],
          "histogram2dcontour": [
           {
            "colorbar": {
             "outlinewidth": 0,
             "ticks": ""
            },
            "colorscale": [
             [
              0,
              "#0d0887"
             ],
             [
              0.1111111111111111,
              "#46039f"
             ],
             [
              0.2222222222222222,
              "#7201a8"
             ],
             [
              0.3333333333333333,
              "#9c179e"
             ],
             [
              0.4444444444444444,
              "#bd3786"
             ],
             [
              0.5555555555555556,
              "#d8576b"
             ],
             [
              0.6666666666666666,
              "#ed7953"
             ],
             [
              0.7777777777777778,
              "#fb9f3a"
             ],
             [
              0.8888888888888888,
              "#fdca26"
             ],
             [
              1,
              "#f0f921"
             ]
            ],
            "type": "histogram2dcontour"
           }
          ],
          "mesh3d": [
           {
            "colorbar": {
             "outlinewidth": 0,
             "ticks": ""
            },
            "type": "mesh3d"
           }
          ],
          "parcoords": [
           {
            "line": {
             "colorbar": {
              "outlinewidth": 0,
              "ticks": ""
             }
            },
            "type": "parcoords"
           }
          ],
          "pie": [
           {
            "automargin": true,
            "type": "pie"
           }
          ],
          "scatter": [
           {
            "marker": {
             "colorbar": {
              "outlinewidth": 0,
              "ticks": ""
             }
            },
            "type": "scatter"
           }
          ],
          "scatter3d": [
           {
            "line": {
             "colorbar": {
              "outlinewidth": 0,
              "ticks": ""
             }
            },
            "marker": {
             "colorbar": {
              "outlinewidth": 0,
              "ticks": ""
             }
            },
            "type": "scatter3d"
           }
          ],
          "scattercarpet": [
           {
            "marker": {
             "colorbar": {
              "outlinewidth": 0,
              "ticks": ""
             }
            },
            "type": "scattercarpet"
           }
          ],
          "scattergeo": [
           {
            "marker": {
             "colorbar": {
              "outlinewidth": 0,
              "ticks": ""
             }
            },
            "type": "scattergeo"
           }
          ],
          "scattergl": [
           {
            "marker": {
             "colorbar": {
              "outlinewidth": 0,
              "ticks": ""
             }
            },
            "type": "scattergl"
           }
          ],
          "scattermapbox": [
           {
            "marker": {
             "colorbar": {
              "outlinewidth": 0,
              "ticks": ""
             }
            },
            "type": "scattermapbox"
           }
          ],
          "scatterpolar": [
           {
            "marker": {
             "colorbar": {
              "outlinewidth": 0,
              "ticks": ""
             }
            },
            "type": "scatterpolar"
           }
          ],
          "scatterpolargl": [
           {
            "marker": {
             "colorbar": {
              "outlinewidth": 0,
              "ticks": ""
             }
            },
            "type": "scatterpolargl"
           }
          ],
          "scatterternary": [
           {
            "marker": {
             "colorbar": {
              "outlinewidth": 0,
              "ticks": ""
             }
            },
            "type": "scatterternary"
           }
          ],
          "surface": [
           {
            "colorbar": {
             "outlinewidth": 0,
             "ticks": ""
            },
            "colorscale": [
             [
              0,
              "#0d0887"
             ],
             [
              0.1111111111111111,
              "#46039f"
             ],
             [
              0.2222222222222222,
              "#7201a8"
             ],
             [
              0.3333333333333333,
              "#9c179e"
             ],
             [
              0.4444444444444444,
              "#bd3786"
             ],
             [
              0.5555555555555556,
              "#d8576b"
             ],
             [
              0.6666666666666666,
              "#ed7953"
             ],
             [
              0.7777777777777778,
              "#fb9f3a"
             ],
             [
              0.8888888888888888,
              "#fdca26"
             ],
             [
              1,
              "#f0f921"
             ]
            ],
            "type": "surface"
           }
          ],
          "table": [
           {
            "cells": {
             "fill": {
              "color": "#EBF0F8"
             },
             "line": {
              "color": "white"
             }
            },
            "header": {
             "fill": {
              "color": "#C8D4E3"
             },
             "line": {
              "color": "white"
             }
            },
            "type": "table"
           }
          ]
         },
         "layout": {
          "annotationdefaults": {
           "arrowcolor": "#2a3f5f",
           "arrowhead": 0,
           "arrowwidth": 1
          },
          "coloraxis": {
           "colorbar": {
            "outlinewidth": 0,
            "ticks": ""
           }
          },
          "colorscale": {
           "diverging": [
            [
             0,
             "#8e0152"
            ],
            [
             0.1,
             "#c51b7d"
            ],
            [
             0.2,
             "#de77ae"
            ],
            [
             0.3,
             "#f1b6da"
            ],
            [
             0.4,
             "#fde0ef"
            ],
            [
             0.5,
             "#f7f7f7"
            ],
            [
             0.6,
             "#e6f5d0"
            ],
            [
             0.7,
             "#b8e186"
            ],
            [
             0.8,
             "#7fbc41"
            ],
            [
             0.9,
             "#4d9221"
            ],
            [
             1,
             "#276419"
            ]
           ],
           "sequential": [
            [
             0,
             "#0d0887"
            ],
            [
             0.1111111111111111,
             "#46039f"
            ],
            [
             0.2222222222222222,
             "#7201a8"
            ],
            [
             0.3333333333333333,
             "#9c179e"
            ],
            [
             0.4444444444444444,
             "#bd3786"
            ],
            [
             0.5555555555555556,
             "#d8576b"
            ],
            [
             0.6666666666666666,
             "#ed7953"
            ],
            [
             0.7777777777777778,
             "#fb9f3a"
            ],
            [
             0.8888888888888888,
             "#fdca26"
            ],
            [
             1,
             "#f0f921"
            ]
           ],
           "sequentialminus": [
            [
             0,
             "#0d0887"
            ],
            [
             0.1111111111111111,
             "#46039f"
            ],
            [
             0.2222222222222222,
             "#7201a8"
            ],
            [
             0.3333333333333333,
             "#9c179e"
            ],
            [
             0.4444444444444444,
             "#bd3786"
            ],
            [
             0.5555555555555556,
             "#d8576b"
            ],
            [
             0.6666666666666666,
             "#ed7953"
            ],
            [
             0.7777777777777778,
             "#fb9f3a"
            ],
            [
             0.8888888888888888,
             "#fdca26"
            ],
            [
             1,
             "#f0f921"
            ]
           ]
          },
          "colorway": [
           "#636efa",
           "#EF553B",
           "#00cc96",
           "#ab63fa",
           "#FFA15A",
           "#19d3f3",
           "#FF6692",
           "#B6E880",
           "#FF97FF",
           "#FECB52"
          ],
          "font": {
           "color": "#2a3f5f"
          },
          "geo": {
           "bgcolor": "white",
           "lakecolor": "white",
           "landcolor": "white",
           "showlakes": true,
           "showland": true,
           "subunitcolor": "#C8D4E3"
          },
          "hoverlabel": {
           "align": "left"
          },
          "hovermode": "closest",
          "mapbox": {
           "style": "light"
          },
          "paper_bgcolor": "white",
          "plot_bgcolor": "white",
          "polar": {
           "angularaxis": {
            "gridcolor": "#EBF0F8",
            "linecolor": "#EBF0F8",
            "ticks": ""
           },
           "bgcolor": "white",
           "radialaxis": {
            "gridcolor": "#EBF0F8",
            "linecolor": "#EBF0F8",
            "ticks": ""
           }
          },
          "scene": {
           "xaxis": {
            "backgroundcolor": "white",
            "gridcolor": "#DFE8F3",
            "gridwidth": 2,
            "linecolor": "#EBF0F8",
            "showbackground": true,
            "ticks": "",
            "zerolinecolor": "#EBF0F8"
           },
           "yaxis": {
            "backgroundcolor": "white",
            "gridcolor": "#DFE8F3",
            "gridwidth": 2,
            "linecolor": "#EBF0F8",
            "showbackground": true,
            "ticks": "",
            "zerolinecolor": "#EBF0F8"
           },
           "zaxis": {
            "backgroundcolor": "white",
            "gridcolor": "#DFE8F3",
            "gridwidth": 2,
            "linecolor": "#EBF0F8",
            "showbackground": true,
            "ticks": "",
            "zerolinecolor": "#EBF0F8"
           }
          },
          "shapedefaults": {
           "line": {
            "color": "#2a3f5f"
           }
          },
          "ternary": {
           "aaxis": {
            "gridcolor": "#DFE8F3",
            "linecolor": "#A2B1C6",
            "ticks": ""
           },
           "baxis": {
            "gridcolor": "#DFE8F3",
            "linecolor": "#A2B1C6",
            "ticks": ""
           },
           "bgcolor": "white",
           "caxis": {
            "gridcolor": "#DFE8F3",
            "linecolor": "#A2B1C6",
            "ticks": ""
           }
          },
          "title": {
           "x": 0.05
          },
          "xaxis": {
           "automargin": true,
           "gridcolor": "#EBF0F8",
           "linecolor": "#EBF0F8",
           "ticks": "",
           "title": {
            "standoff": 15
           },
           "zerolinecolor": "#EBF0F8",
           "zerolinewidth": 2
          },
          "yaxis": {
           "automargin": true,
           "gridcolor": "#EBF0F8",
           "linecolor": "#EBF0F8",
           "ticks": "",
           "title": {
            "standoff": 15
           },
           "zerolinecolor": "#EBF0F8",
           "zerolinewidth": 2
          }
         }
        },
        "title": {
         "text": "Kumulierter Investitionsbedarf<br>in die deutschen Verteilnetze je Spannungsebene bis 2050"
        },
        "width": 1000.0629921378601,
        "yaxis": {
         "showspikes": true,
         "tickfont": {
          "size": 12
         },
         "title": {
          "text": "Mrd. €"
         }
        }
       }
      },
      "text/html": [
       "<div>\n",
       "        \n",
       "        \n",
       "            <div id=\"062fb71b-3802-42a8-a5b8-bf2f4d4417d3\" class=\"plotly-graph-div\" style=\"height:525px; width:1000.0629921378601px;\"></div>\n",
       "            <script type=\"text/javascript\">\n",
       "                require([\"plotly\"], function(Plotly) {\n",
       "                    window.PLOTLYENV=window.PLOTLYENV || {};\n",
       "                    \n",
       "                if (document.getElementById(\"062fb71b-3802-42a8-a5b8-bf2f4d4417d3\")) {\n",
       "                    Plotly.newPlot(\n",
       "                        '062fb71b-3802-42a8-a5b8-bf2f4d4417d3',\n",
       "                        [{\"marker\": {\"color\": \"rgba(193, 211, 234, 1.0)\"}, \"name\": \"NS\", \"showlegend\": true, \"type\": \"bar\", \"x\": [[\"dena\", \"dena\", \"dena\", \"Agora\", \"Agora\", \"Agora\", \"Agora\", \"BCG\", \"BCG\", \"BCG\"], [\"Referenz\", \"Technologiemix\", \"Elektrifizierung\", \"M1 (gesteuert+) 11 kW\", \"F3 (gesteuert+) 11 kW\", \"M1 (gesteuert) 11 kW\", \"F3 (gesteuert) 11 kW\", \"Referenz\", \"80%-Pfad\", \"95%-Pfad\"], [[\"dena\", \"Referenz\"], [\"dena\", \"Technologiemix\"], [\"dena\", \"Elektrifizierung\"], [\"Agora\", \"M1 (gesteuert+) 11 kW\"], [\"Agora\", \"F3 (gesteuert+) 11 kW\"], [\"Agora\", \"M1 (gesteuert) 11 kW\"], [\"Agora\", \"F3 (gesteuert) 11 kW\"], [\"BCG\", \"Referenz\"], [\"BCG\", \"80%-Pfad\"], [\"BCG\", \"95%-Pfad\"]]], \"y\": [12.9, 72.8, 149.8, 12.0, 17.0, 36.0, 47.0, 25.0, 35.0, 38.0]}, {\"marker\": {\"color\": \"rgba(157, 188, 225, 1.0)\"}, \"name\": \"MS\", \"showlegend\": true, \"type\": \"bar\", \"x\": [[\"dena\", \"dena\", \"dena\", \"Agora\", \"Agora\", \"Agora\", \"Agora\", \"BCG\", \"BCG\", \"BCG\"], [\"Referenz\", \"Technologiemix\", \"Elektrifizierung\", \"M1 (gesteuert+) 11 kW\", \"F3 (gesteuert+) 11 kW\", \"M1 (gesteuert) 11 kW\", \"F3 (gesteuert) 11 kW\", \"Referenz\", \"80%-Pfad\", \"95%-Pfad\"], [[\"dena\", \"Referenz\"], [\"dena\", \"Technologiemix\"], [\"dena\", \"Elektrifizierung\"], [\"Agora\", \"M1 (gesteuert+) 11 kW\"], [\"Agora\", \"F3 (gesteuert+) 11 kW\"], [\"Agora\", \"M1 (gesteuert) 11 kW\"], [\"Agora\", \"F3 (gesteuert) 11 kW\"], [\"BCG\", \"Referenz\"], [\"BCG\", \"80%-Pfad\"], [\"BCG\", \"95%-Pfad\"]]], \"y\": [14.9, 26.3, 35.7, 42.0, 58.0, 44.0, 61.0, 26.0, 33.0, 39.0]}, {\"marker\": {\"color\": \"rgba(108, 162, 215, 1.0)\"}, \"name\": \"HS\", \"showlegend\": true, \"type\": \"bar\", \"x\": [[\"dena\", \"dena\", \"dena\", \"Agora\", \"Agora\", \"Agora\", \"Agora\", \"BCG\", \"BCG\", \"BCG\"], [\"Referenz\", \"Technologiemix\", \"Elektrifizierung\", \"M1 (gesteuert+) 11 kW\", \"F3 (gesteuert+) 11 kW\", \"M1 (gesteuert) 11 kW\", \"F3 (gesteuert) 11 kW\", \"Referenz\", \"80%-Pfad\", \"95%-Pfad\"], [[\"dena\", \"Referenz\"], [\"dena\", \"Technologiemix\"], [\"dena\", \"Elektrifizierung\"], [\"Agora\", \"M1 (gesteuert+) 11 kW\"], [\"Agora\", \"F3 (gesteuert+) 11 kW\"], [\"Agora\", \"M1 (gesteuert) 11 kW\"], [\"Agora\", \"F3 (gesteuert) 11 kW\"], [\"BCG\", \"Referenz\"], [\"BCG\", \"80%-Pfad\"], [\"BCG\", \"95%-Pfad\"]]], \"y\": [20.0, 52.0, 67.1, null, null, null, null, 12.0, 15.0, 18.0]}],\n",
       "                        {\"autosize\": false, \"template\": {\"data\": {\"bar\": [{\"error_x\": {\"color\": \"#2a3f5f\"}, \"error_y\": {\"color\": \"#2a3f5f\"}, \"marker\": {\"line\": {\"color\": \"white\", \"width\": 0.5}}, \"type\": \"bar\"}], \"barpolar\": [{\"marker\": {\"line\": {\"color\": \"white\", \"width\": 0.5}}, \"type\": \"barpolar\"}], \"carpet\": [{\"aaxis\": {\"endlinecolor\": \"#2a3f5f\", \"gridcolor\": \"#C8D4E3\", \"linecolor\": \"#C8D4E3\", \"minorgridcolor\": \"#C8D4E3\", \"startlinecolor\": \"#2a3f5f\"}, \"baxis\": {\"endlinecolor\": \"#2a3f5f\", \"gridcolor\": \"#C8D4E3\", \"linecolor\": \"#C8D4E3\", \"minorgridcolor\": \"#C8D4E3\", \"startlinecolor\": \"#2a3f5f\"}, \"type\": \"carpet\"}], \"choropleth\": [{\"colorbar\": {\"outlinewidth\": 0, \"ticks\": \"\"}, \"type\": \"choropleth\"}], \"contour\": [{\"colorbar\": {\"outlinewidth\": 0, \"ticks\": \"\"}, \"colorscale\": [[0.0, \"#0d0887\"], [0.1111111111111111, \"#46039f\"], [0.2222222222222222, \"#7201a8\"], [0.3333333333333333, \"#9c179e\"], [0.4444444444444444, \"#bd3786\"], [0.5555555555555556, \"#d8576b\"], [0.6666666666666666, \"#ed7953\"], [0.7777777777777778, \"#fb9f3a\"], [0.8888888888888888, \"#fdca26\"], [1.0, \"#f0f921\"]], \"type\": \"contour\"}], \"contourcarpet\": [{\"colorbar\": {\"outlinewidth\": 0, \"ticks\": \"\"}, \"type\": \"contourcarpet\"}], \"heatmap\": [{\"colorbar\": {\"outlinewidth\": 0, \"ticks\": \"\"}, \"colorscale\": [[0.0, \"#0d0887\"], [0.1111111111111111, \"#46039f\"], [0.2222222222222222, \"#7201a8\"], [0.3333333333333333, \"#9c179e\"], [0.4444444444444444, \"#bd3786\"], [0.5555555555555556, \"#d8576b\"], [0.6666666666666666, \"#ed7953\"], [0.7777777777777778, \"#fb9f3a\"], [0.8888888888888888, \"#fdca26\"], [1.0, \"#f0f921\"]], \"type\": \"heatmap\"}], \"heatmapgl\": [{\"colorbar\": {\"outlinewidth\": 0, \"ticks\": \"\"}, \"colorscale\": [[0.0, \"#0d0887\"], [0.1111111111111111, \"#46039f\"], [0.2222222222222222, \"#7201a8\"], [0.3333333333333333, \"#9c179e\"], [0.4444444444444444, \"#bd3786\"], [0.5555555555555556, \"#d8576b\"], [0.6666666666666666, \"#ed7953\"], [0.7777777777777778, \"#fb9f3a\"], [0.8888888888888888, \"#fdca26\"], [1.0, \"#f0f921\"]], \"type\": \"heatmapgl\"}], \"histogram\": [{\"marker\": {\"colorbar\": {\"outlinewidth\": 0, \"ticks\": \"\"}}, \"type\": \"histogram\"}], \"histogram2d\": [{\"colorbar\": {\"outlinewidth\": 0, \"ticks\": \"\"}, \"colorscale\": [[0.0, \"#0d0887\"], [0.1111111111111111, \"#46039f\"], [0.2222222222222222, \"#7201a8\"], [0.3333333333333333, \"#9c179e\"], [0.4444444444444444, \"#bd3786\"], [0.5555555555555556, \"#d8576b\"], [0.6666666666666666, \"#ed7953\"], [0.7777777777777778, \"#fb9f3a\"], [0.8888888888888888, \"#fdca26\"], [1.0, \"#f0f921\"]], \"type\": \"histogram2d\"}], \"histogram2dcontour\": [{\"colorbar\": {\"outlinewidth\": 0, \"ticks\": \"\"}, \"colorscale\": [[0.0, \"#0d0887\"], [0.1111111111111111, \"#46039f\"], [0.2222222222222222, \"#7201a8\"], [0.3333333333333333, \"#9c179e\"], [0.4444444444444444, \"#bd3786\"], [0.5555555555555556, \"#d8576b\"], [0.6666666666666666, \"#ed7953\"], [0.7777777777777778, \"#fb9f3a\"], [0.8888888888888888, \"#fdca26\"], [1.0, \"#f0f921\"]], \"type\": \"histogram2dcontour\"}], \"mesh3d\": [{\"colorbar\": {\"outlinewidth\": 0, \"ticks\": \"\"}, \"type\": \"mesh3d\"}], \"parcoords\": [{\"line\": {\"colorbar\": {\"outlinewidth\": 0, \"ticks\": \"\"}}, \"type\": \"parcoords\"}], \"pie\": [{\"automargin\": true, \"type\": \"pie\"}], \"scatter\": [{\"marker\": {\"colorbar\": {\"outlinewidth\": 0, \"ticks\": \"\"}}, \"type\": \"scatter\"}], \"scatter3d\": [{\"line\": {\"colorbar\": {\"outlinewidth\": 0, \"ticks\": \"\"}}, \"marker\": {\"colorbar\": {\"outlinewidth\": 0, \"ticks\": \"\"}}, \"type\": \"scatter3d\"}], \"scattercarpet\": [{\"marker\": {\"colorbar\": {\"outlinewidth\": 0, \"ticks\": \"\"}}, \"type\": \"scattercarpet\"}], \"scattergeo\": [{\"marker\": {\"colorbar\": {\"outlinewidth\": 0, \"ticks\": \"\"}}, \"type\": \"scattergeo\"}], \"scattergl\": [{\"marker\": {\"colorbar\": {\"outlinewidth\": 0, \"ticks\": \"\"}}, \"type\": \"scattergl\"}], \"scattermapbox\": [{\"marker\": {\"colorbar\": {\"outlinewidth\": 0, \"ticks\": \"\"}}, \"type\": \"scattermapbox\"}], \"scatterpolar\": [{\"marker\": {\"colorbar\": {\"outlinewidth\": 0, \"ticks\": \"\"}}, \"type\": \"scatterpolar\"}], \"scatterpolargl\": [{\"marker\": {\"colorbar\": {\"outlinewidth\": 0, \"ticks\": \"\"}}, \"type\": \"scatterpolargl\"}], \"scatterternary\": [{\"marker\": {\"colorbar\": {\"outlinewidth\": 0, \"ticks\": \"\"}}, \"type\": \"scatterternary\"}], \"surface\": [{\"colorbar\": {\"outlinewidth\": 0, \"ticks\": \"\"}, \"colorscale\": [[0.0, \"#0d0887\"], [0.1111111111111111, \"#46039f\"], [0.2222222222222222, \"#7201a8\"], [0.3333333333333333, \"#9c179e\"], [0.4444444444444444, \"#bd3786\"], [0.5555555555555556, \"#d8576b\"], [0.6666666666666666, \"#ed7953\"], [0.7777777777777778, \"#fb9f3a\"], [0.8888888888888888, \"#fdca26\"], [1.0, \"#f0f921\"]], \"type\": \"surface\"}], \"table\": [{\"cells\": {\"fill\": {\"color\": \"#EBF0F8\"}, \"line\": {\"color\": \"white\"}}, \"header\": {\"fill\": {\"color\": \"#C8D4E3\"}, \"line\": {\"color\": \"white\"}}, \"type\": \"table\"}]}, \"layout\": {\"annotationdefaults\": {\"arrowcolor\": \"#2a3f5f\", \"arrowhead\": 0, \"arrowwidth\": 1}, \"coloraxis\": {\"colorbar\": {\"outlinewidth\": 0, \"ticks\": \"\"}}, \"colorscale\": {\"diverging\": [[0, \"#8e0152\"], [0.1, \"#c51b7d\"], [0.2, \"#de77ae\"], [0.3, \"#f1b6da\"], [0.4, \"#fde0ef\"], [0.5, \"#f7f7f7\"], [0.6, \"#e6f5d0\"], [0.7, \"#b8e186\"], [0.8, \"#7fbc41\"], [0.9, \"#4d9221\"], [1, \"#276419\"]], \"sequential\": [[0.0, \"#0d0887\"], [0.1111111111111111, \"#46039f\"], [0.2222222222222222, \"#7201a8\"], [0.3333333333333333, \"#9c179e\"], [0.4444444444444444, \"#bd3786\"], [0.5555555555555556, \"#d8576b\"], [0.6666666666666666, \"#ed7953\"], [0.7777777777777778, \"#fb9f3a\"], [0.8888888888888888, \"#fdca26\"], [1.0, \"#f0f921\"]], \"sequentialminus\": [[0.0, \"#0d0887\"], [0.1111111111111111, \"#46039f\"], [0.2222222222222222, \"#7201a8\"], [0.3333333333333333, \"#9c179e\"], [0.4444444444444444, \"#bd3786\"], [0.5555555555555556, \"#d8576b\"], [0.6666666666666666, \"#ed7953\"], [0.7777777777777778, \"#fb9f3a\"], [0.8888888888888888, \"#fdca26\"], [1.0, \"#f0f921\"]]}, \"colorway\": [\"#636efa\", \"#EF553B\", \"#00cc96\", \"#ab63fa\", \"#FFA15A\", \"#19d3f3\", \"#FF6692\", \"#B6E880\", \"#FF97FF\", \"#FECB52\"], \"font\": {\"color\": \"#2a3f5f\"}, \"geo\": {\"bgcolor\": \"white\", \"lakecolor\": \"white\", \"landcolor\": \"white\", \"showlakes\": true, \"showland\": true, \"subunitcolor\": \"#C8D4E3\"}, \"hoverlabel\": {\"align\": \"left\"}, \"hovermode\": \"closest\", \"mapbox\": {\"style\": \"light\"}, \"paper_bgcolor\": \"white\", \"plot_bgcolor\": \"white\", \"polar\": {\"angularaxis\": {\"gridcolor\": \"#EBF0F8\", \"linecolor\": \"#EBF0F8\", \"ticks\": \"\"}, \"bgcolor\": \"white\", \"radialaxis\": {\"gridcolor\": \"#EBF0F8\", \"linecolor\": \"#EBF0F8\", \"ticks\": \"\"}}, \"scene\": {\"xaxis\": {\"backgroundcolor\": \"white\", \"gridcolor\": \"#DFE8F3\", \"gridwidth\": 2, \"linecolor\": \"#EBF0F8\", \"showbackground\": true, \"ticks\": \"\", \"zerolinecolor\": \"#EBF0F8\"}, \"yaxis\": {\"backgroundcolor\": \"white\", \"gridcolor\": \"#DFE8F3\", \"gridwidth\": 2, \"linecolor\": \"#EBF0F8\", \"showbackground\": true, \"ticks\": \"\", \"zerolinecolor\": \"#EBF0F8\"}, \"zaxis\": {\"backgroundcolor\": \"white\", \"gridcolor\": \"#DFE8F3\", \"gridwidth\": 2, \"linecolor\": \"#EBF0F8\", \"showbackground\": true, \"ticks\": \"\", \"zerolinecolor\": \"#EBF0F8\"}}, \"shapedefaults\": {\"line\": {\"color\": \"#2a3f5f\"}}, \"ternary\": {\"aaxis\": {\"gridcolor\": \"#DFE8F3\", \"linecolor\": \"#A2B1C6\", \"ticks\": \"\"}, \"baxis\": {\"gridcolor\": \"#DFE8F3\", \"linecolor\": \"#A2B1C6\", \"ticks\": \"\"}, \"bgcolor\": \"white\", \"caxis\": {\"gridcolor\": \"#DFE8F3\", \"linecolor\": \"#A2B1C6\", \"ticks\": \"\"}}, \"title\": {\"x\": 0.05}, \"xaxis\": {\"automargin\": true, \"gridcolor\": \"#EBF0F8\", \"linecolor\": \"#EBF0F8\", \"ticks\": \"\", \"title\": {\"standoff\": 15}, \"zerolinecolor\": \"#EBF0F8\", \"zerolinewidth\": 2}, \"yaxis\": {\"automargin\": true, \"gridcolor\": \"#EBF0F8\", \"linecolor\": \"#EBF0F8\", \"ticks\": \"\", \"title\": {\"standoff\": 15}, \"zerolinecolor\": \"#EBF0F8\", \"zerolinewidth\": 2}}}, \"title\": {\"text\": \"Kumulierter Investitionsbedarf<br>in die deutschen Verteilnetze je Spannungsebene bis 2050\"}, \"width\": 1000.0629921378601, \"yaxis\": {\"showspikes\": true, \"tickfont\": {\"size\": 12}, \"title\": {\"text\": \"Mrd. \\u20ac\"}}},\n",
       "                        {\"responsive\": true}\n",
       "                    ).then(function(){\n",
       "                            \n",
       "var gd = document.getElementById('062fb71b-3802-42a8-a5b8-bf2f4d4417d3');\n",
       "var x = new MutationObserver(function (mutations, observer) {{\n",
       "        var display = window.getComputedStyle(gd).display;\n",
       "        if (!display || display === 'none') {{\n",
       "            console.log([gd, 'removed!']);\n",
       "            Plotly.purge(gd);\n",
       "            observer.disconnect();\n",
       "        }}\n",
       "}});\n",
       "\n",
       "// Listen for the removal of the full notebook cells\n",
       "var notebookContainer = gd.closest('#notebook-container');\n",
       "if (notebookContainer) {{\n",
       "    x.observe(notebookContainer, {childList: true});\n",
       "}}\n",
       "\n",
       "// Listen for the clearing of the current output cell\n",
       "var outputEl = gd.closest('.output');\n",
       "if (outputEl) {{\n",
       "    x.observe(outputEl, {childList: true});\n",
       "}}\n",
       "\n",
       "                        })\n",
       "                };\n",
       "                });\n",
       "            </script>\n",
       "        </div>"
      ]
     },
     "metadata": {},
     "output_type": "display_data"
    }
   ],
   "source": [
    "xlabels = [list(df_2050.index.get_level_values(0)),\n",
    "           list(df_2050.index.get_level_values(1)),\n",
    "           df_2050.index]\n",
    "\n",
    "fig = go.Figure()\n",
    "\n",
    "for idx, voltage in enumerate(df_2050.columns):\n",
    "    fig.add_trace(\n",
    "        go.Bar(\n",
    "            y=df_2050[voltage],\n",
    "            x=xlabels,\n",
    "            name=voltage,\n",
    "            showlegend=True,\n",
    "            marker_color=RLI_CMAP_PRES[idx]\n",
    "        )\n",
    "    )\n",
    "\n",
    "fig.update_layout(\n",
    "    autosize=False,\n",
    "    width=1.5*width,\n",
    "    #height=height,\n",
    "    yaxis=dict(\n",
    "        titlefont_size=16,\n",
    "        tickfont_size=12,\n",
    "        title=\"Mrd. €\",\n",
    "        showspikes=True),\n",
    "    title_text='Kumulierter Investitionsbedarf<br>in die deutschen Verteilnetze je Spannungsebene bis 2050',\n",
    "    template='plotly_white',\n",
    ")\n",
    "\n",
    "fig.update_yaxes(\n",
    "    title=\"Mrd. €\",\n",
    "    showspikes=True)\n",
    "\n",
    "fig.write_image(\"images/DS-CAPEX.svg\")\n",
    "fig.write_html(\"images/DS-CAPEX.html\")\n",
    "fig.show()"
   ]
  },
  {
   "cell_type": "code",
   "execution_count": 19,
   "metadata": {},
   "outputs": [
    {
     "data": {
      "application/vnd.plotly.v1+json": {
       "config": {
        "plotlyServerURL": "https://plot.ly"
       },
       "data": [
        {
         "alignmentgroup": "True",
         "hovertemplate": "variable=NS<br>x=%{x}<br>value=%{y}<extra></extra>",
         "legendgroup": "NS",
         "marker": {
          "color": "#636efa"
         },
         "name": "NS",
         "offsetgroup": "NS",
         "orientation": "v",
         "showlegend": true,
         "textposition": "auto",
         "type": "bar",
         "x": [
          "Referenz",
          "80%-Pfad",
          "95%-Pfad"
         ],
         "xaxis": "x",
         "y": [
          25,
          35,
          38
         ],
         "yaxis": "y"
        },
        {
         "alignmentgroup": "True",
         "hovertemplate": "variable=MS<br>x=%{x}<br>value=%{y}<extra></extra>",
         "legendgroup": "MS",
         "marker": {
          "color": "#EF553B"
         },
         "name": "MS",
         "offsetgroup": "MS",
         "orientation": "v",
         "showlegend": true,
         "textposition": "auto",
         "type": "bar",
         "x": [
          "Referenz",
          "80%-Pfad",
          "95%-Pfad"
         ],
         "xaxis": "x",
         "y": [
          26,
          33,
          39
         ],
         "yaxis": "y"
        },
        {
         "alignmentgroup": "True",
         "hovertemplate": "variable=HS<br>x=%{x}<br>value=%{y}<extra></extra>",
         "legendgroup": "HS",
         "marker": {
          "color": "#00cc96"
         },
         "name": "HS",
         "offsetgroup": "HS",
         "orientation": "v",
         "showlegend": true,
         "textposition": "auto",
         "type": "bar",
         "x": [
          "Referenz",
          "80%-Pfad",
          "95%-Pfad"
         ],
         "xaxis": "x",
         "y": [
          12,
          15,
          18
         ],
         "yaxis": "y"
        }
       ],
       "layout": {
        "barmode": "relative",
        "legend": {
         "title": {
          "text": "variable"
         },
         "tracegroupgap": 0
        },
        "template": {
         "data": {
          "bar": [
           {
            "error_x": {
             "color": "#2a3f5f"
            },
            "error_y": {
             "color": "#2a3f5f"
            },
            "marker": {
             "line": {
              "color": "#E5ECF6",
              "width": 0.5
             }
            },
            "type": "bar"
           }
          ],
          "barpolar": [
           {
            "marker": {
             "line": {
              "color": "#E5ECF6",
              "width": 0.5
             }
            },
            "type": "barpolar"
           }
          ],
          "carpet": [
           {
            "aaxis": {
             "endlinecolor": "#2a3f5f",
             "gridcolor": "white",
             "linecolor": "white",
             "minorgridcolor": "white",
             "startlinecolor": "#2a3f5f"
            },
            "baxis": {
             "endlinecolor": "#2a3f5f",
             "gridcolor": "white",
             "linecolor": "white",
             "minorgridcolor": "white",
             "startlinecolor": "#2a3f5f"
            },
            "type": "carpet"
           }
          ],
          "choropleth": [
           {
            "colorbar": {
             "outlinewidth": 0,
             "ticks": ""
            },
            "type": "choropleth"
           }
          ],
          "contour": [
           {
            "colorbar": {
             "outlinewidth": 0,
             "ticks": ""
            },
            "colorscale": [
             [
              0,
              "#0d0887"
             ],
             [
              0.1111111111111111,
              "#46039f"
             ],
             [
              0.2222222222222222,
              "#7201a8"
             ],
             [
              0.3333333333333333,
              "#9c179e"
             ],
             [
              0.4444444444444444,
              "#bd3786"
             ],
             [
              0.5555555555555556,
              "#d8576b"
             ],
             [
              0.6666666666666666,
              "#ed7953"
             ],
             [
              0.7777777777777778,
              "#fb9f3a"
             ],
             [
              0.8888888888888888,
              "#fdca26"
             ],
             [
              1,
              "#f0f921"
             ]
            ],
            "type": "contour"
           }
          ],
          "contourcarpet": [
           {
            "colorbar": {
             "outlinewidth": 0,
             "ticks": ""
            },
            "type": "contourcarpet"
           }
          ],
          "heatmap": [
           {
            "colorbar": {
             "outlinewidth": 0,
             "ticks": ""
            },
            "colorscale": [
             [
              0,
              "#0d0887"
             ],
             [
              0.1111111111111111,
              "#46039f"
             ],
             [
              0.2222222222222222,
              "#7201a8"
             ],
             [
              0.3333333333333333,
              "#9c179e"
             ],
             [
              0.4444444444444444,
              "#bd3786"
             ],
             [
              0.5555555555555556,
              "#d8576b"
             ],
             [
              0.6666666666666666,
              "#ed7953"
             ],
             [
              0.7777777777777778,
              "#fb9f3a"
             ],
             [
              0.8888888888888888,
              "#fdca26"
             ],
             [
              1,
              "#f0f921"
             ]
            ],
            "type": "heatmap"
           }
          ],
          "heatmapgl": [
           {
            "colorbar": {
             "outlinewidth": 0,
             "ticks": ""
            },
            "colorscale": [
             [
              0,
              "#0d0887"
             ],
             [
              0.1111111111111111,
              "#46039f"
             ],
             [
              0.2222222222222222,
              "#7201a8"
             ],
             [
              0.3333333333333333,
              "#9c179e"
             ],
             [
              0.4444444444444444,
              "#bd3786"
             ],
             [
              0.5555555555555556,
              "#d8576b"
             ],
             [
              0.6666666666666666,
              "#ed7953"
             ],
             [
              0.7777777777777778,
              "#fb9f3a"
             ],
             [
              0.8888888888888888,
              "#fdca26"
             ],
             [
              1,
              "#f0f921"
             ]
            ],
            "type": "heatmapgl"
           }
          ],
          "histogram": [
           {
            "marker": {
             "colorbar": {
              "outlinewidth": 0,
              "ticks": ""
             }
            },
            "type": "histogram"
           }
          ],
          "histogram2d": [
           {
            "colorbar": {
             "outlinewidth": 0,
             "ticks": ""
            },
            "colorscale": [
             [
              0,
              "#0d0887"
             ],
             [
              0.1111111111111111,
              "#46039f"
             ],
             [
              0.2222222222222222,
              "#7201a8"
             ],
             [
              0.3333333333333333,
              "#9c179e"
             ],
             [
              0.4444444444444444,
              "#bd3786"
             ],
             [
              0.5555555555555556,
              "#d8576b"
             ],
             [
              0.6666666666666666,
              "#ed7953"
             ],
             [
              0.7777777777777778,
              "#fb9f3a"
             ],
             [
              0.8888888888888888,
              "#fdca26"
             ],
             [
              1,
              "#f0f921"
             ]
            ],
            "type": "histogram2d"
           }
          ],
          "histogram2dcontour": [
           {
            "colorbar": {
             "outlinewidth": 0,
             "ticks": ""
            },
            "colorscale": [
             [
              0,
              "#0d0887"
             ],
             [
              0.1111111111111111,
              "#46039f"
             ],
             [
              0.2222222222222222,
              "#7201a8"
             ],
             [
              0.3333333333333333,
              "#9c179e"
             ],
             [
              0.4444444444444444,
              "#bd3786"
             ],
             [
              0.5555555555555556,
              "#d8576b"
             ],
             [
              0.6666666666666666,
              "#ed7953"
             ],
             [
              0.7777777777777778,
              "#fb9f3a"
             ],
             [
              0.8888888888888888,
              "#fdca26"
             ],
             [
              1,
              "#f0f921"
             ]
            ],
            "type": "histogram2dcontour"
           }
          ],
          "mesh3d": [
           {
            "colorbar": {
             "outlinewidth": 0,
             "ticks": ""
            },
            "type": "mesh3d"
           }
          ],
          "parcoords": [
           {
            "line": {
             "colorbar": {
              "outlinewidth": 0,
              "ticks": ""
             }
            },
            "type": "parcoords"
           }
          ],
          "pie": [
           {
            "automargin": true,
            "type": "pie"
           }
          ],
          "scatter": [
           {
            "marker": {
             "colorbar": {
              "outlinewidth": 0,
              "ticks": ""
             }
            },
            "type": "scatter"
           }
          ],
          "scatter3d": [
           {
            "line": {
             "colorbar": {
              "outlinewidth": 0,
              "ticks": ""
             }
            },
            "marker": {
             "colorbar": {
              "outlinewidth": 0,
              "ticks": ""
             }
            },
            "type": "scatter3d"
           }
          ],
          "scattercarpet": [
           {
            "marker": {
             "colorbar": {
              "outlinewidth": 0,
              "ticks": ""
             }
            },
            "type": "scattercarpet"
           }
          ],
          "scattergeo": [
           {
            "marker": {
             "colorbar": {
              "outlinewidth": 0,
              "ticks": ""
             }
            },
            "type": "scattergeo"
           }
          ],
          "scattergl": [
           {
            "marker": {
             "colorbar": {
              "outlinewidth": 0,
              "ticks": ""
             }
            },
            "type": "scattergl"
           }
          ],
          "scattermapbox": [
           {
            "marker": {
             "colorbar": {
              "outlinewidth": 0,
              "ticks": ""
             }
            },
            "type": "scattermapbox"
           }
          ],
          "scatterpolar": [
           {
            "marker": {
             "colorbar": {
              "outlinewidth": 0,
              "ticks": ""
             }
            },
            "type": "scatterpolar"
           }
          ],
          "scatterpolargl": [
           {
            "marker": {
             "colorbar": {
              "outlinewidth": 0,
              "ticks": ""
             }
            },
            "type": "scatterpolargl"
           }
          ],
          "scatterternary": [
           {
            "marker": {
             "colorbar": {
              "outlinewidth": 0,
              "ticks": ""
             }
            },
            "type": "scatterternary"
           }
          ],
          "surface": [
           {
            "colorbar": {
             "outlinewidth": 0,
             "ticks": ""
            },
            "colorscale": [
             [
              0,
              "#0d0887"
             ],
             [
              0.1111111111111111,
              "#46039f"
             ],
             [
              0.2222222222222222,
              "#7201a8"
             ],
             [
              0.3333333333333333,
              "#9c179e"
             ],
             [
              0.4444444444444444,
              "#bd3786"
             ],
             [
              0.5555555555555556,
              "#d8576b"
             ],
             [
              0.6666666666666666,
              "#ed7953"
             ],
             [
              0.7777777777777778,
              "#fb9f3a"
             ],
             [
              0.8888888888888888,
              "#fdca26"
             ],
             [
              1,
              "#f0f921"
             ]
            ],
            "type": "surface"
           }
          ],
          "table": [
           {
            "cells": {
             "fill": {
              "color": "#EBF0F8"
             },
             "line": {
              "color": "white"
             }
            },
            "header": {
             "fill": {
              "color": "#C8D4E3"
             },
             "line": {
              "color": "white"
             }
            },
            "type": "table"
           }
          ]
         },
         "layout": {
          "annotationdefaults": {
           "arrowcolor": "#2a3f5f",
           "arrowhead": 0,
           "arrowwidth": 1
          },
          "coloraxis": {
           "colorbar": {
            "outlinewidth": 0,
            "ticks": ""
           }
          },
          "colorscale": {
           "diverging": [
            [
             0,
             "#8e0152"
            ],
            [
             0.1,
             "#c51b7d"
            ],
            [
             0.2,
             "#de77ae"
            ],
            [
             0.3,
             "#f1b6da"
            ],
            [
             0.4,
             "#fde0ef"
            ],
            [
             0.5,
             "#f7f7f7"
            ],
            [
             0.6,
             "#e6f5d0"
            ],
            [
             0.7,
             "#b8e186"
            ],
            [
             0.8,
             "#7fbc41"
            ],
            [
             0.9,
             "#4d9221"
            ],
            [
             1,
             "#276419"
            ]
           ],
           "sequential": [
            [
             0,
             "#0d0887"
            ],
            [
             0.1111111111111111,
             "#46039f"
            ],
            [
             0.2222222222222222,
             "#7201a8"
            ],
            [
             0.3333333333333333,
             "#9c179e"
            ],
            [
             0.4444444444444444,
             "#bd3786"
            ],
            [
             0.5555555555555556,
             "#d8576b"
            ],
            [
             0.6666666666666666,
             "#ed7953"
            ],
            [
             0.7777777777777778,
             "#fb9f3a"
            ],
            [
             0.8888888888888888,
             "#fdca26"
            ],
            [
             1,
             "#f0f921"
            ]
           ],
           "sequentialminus": [
            [
             0,
             "#0d0887"
            ],
            [
             0.1111111111111111,
             "#46039f"
            ],
            [
             0.2222222222222222,
             "#7201a8"
            ],
            [
             0.3333333333333333,
             "#9c179e"
            ],
            [
             0.4444444444444444,
             "#bd3786"
            ],
            [
             0.5555555555555556,
             "#d8576b"
            ],
            [
             0.6666666666666666,
             "#ed7953"
            ],
            [
             0.7777777777777778,
             "#fb9f3a"
            ],
            [
             0.8888888888888888,
             "#fdca26"
            ],
            [
             1,
             "#f0f921"
            ]
           ]
          },
          "colorway": [
           "#636efa",
           "#EF553B",
           "#00cc96",
           "#ab63fa",
           "#FFA15A",
           "#19d3f3",
           "#FF6692",
           "#B6E880",
           "#FF97FF",
           "#FECB52"
          ],
          "font": {
           "color": "#2a3f5f"
          },
          "geo": {
           "bgcolor": "white",
           "lakecolor": "white",
           "landcolor": "#E5ECF6",
           "showlakes": true,
           "showland": true,
           "subunitcolor": "white"
          },
          "hoverlabel": {
           "align": "left"
          },
          "hovermode": "closest",
          "mapbox": {
           "style": "light"
          },
          "paper_bgcolor": "white",
          "plot_bgcolor": "#E5ECF6",
          "polar": {
           "angularaxis": {
            "gridcolor": "white",
            "linecolor": "white",
            "ticks": ""
           },
           "bgcolor": "#E5ECF6",
           "radialaxis": {
            "gridcolor": "white",
            "linecolor": "white",
            "ticks": ""
           }
          },
          "scene": {
           "xaxis": {
            "backgroundcolor": "#E5ECF6",
            "gridcolor": "white",
            "gridwidth": 2,
            "linecolor": "white",
            "showbackground": true,
            "ticks": "",
            "zerolinecolor": "white"
           },
           "yaxis": {
            "backgroundcolor": "#E5ECF6",
            "gridcolor": "white",
            "gridwidth": 2,
            "linecolor": "white",
            "showbackground": true,
            "ticks": "",
            "zerolinecolor": "white"
           },
           "zaxis": {
            "backgroundcolor": "#E5ECF6",
            "gridcolor": "white",
            "gridwidth": 2,
            "linecolor": "white",
            "showbackground": true,
            "ticks": "",
            "zerolinecolor": "white"
           }
          },
          "shapedefaults": {
           "line": {
            "color": "#2a3f5f"
           }
          },
          "ternary": {
           "aaxis": {
            "gridcolor": "white",
            "linecolor": "white",
            "ticks": ""
           },
           "baxis": {
            "gridcolor": "white",
            "linecolor": "white",
            "ticks": ""
           },
           "bgcolor": "#E5ECF6",
           "caxis": {
            "gridcolor": "white",
            "linecolor": "white",
            "ticks": ""
           }
          },
          "title": {
           "x": 0.05
          },
          "xaxis": {
           "automargin": true,
           "gridcolor": "white",
           "linecolor": "white",
           "ticks": "",
           "title": {
            "standoff": 15
           },
           "zerolinecolor": "white",
           "zerolinewidth": 2
          },
          "yaxis": {
           "automargin": true,
           "gridcolor": "white",
           "linecolor": "white",
           "ticks": "",
           "title": {
            "standoff": 15
           },
           "zerolinecolor": "white",
           "zerolinewidth": 2
          }
         }
        },
        "title": {
         "text": "Investitionsbedarf in die deutschen Verteilnetze je Spannungsebene"
        },
        "xaxis": {
         "anchor": "y",
         "domain": [
          0,
          1
         ],
         "title": {
          "text": "x"
         }
        },
        "yaxis": {
         "anchor": "x",
         "domain": [
          0,
          1
         ],
         "title": {
          "text": "value"
         }
        }
       }
      },
      "text/html": [
       "<div>\n",
       "        \n",
       "        \n",
       "            <div id=\"3c4641f2-798f-4697-9920-9ee309a593f4\" class=\"plotly-graph-div\" style=\"height:525px; width:100%;\"></div>\n",
       "            <script type=\"text/javascript\">\n",
       "                require([\"plotly\"], function(Plotly) {\n",
       "                    window.PLOTLYENV=window.PLOTLYENV || {};\n",
       "                    \n",
       "                if (document.getElementById(\"3c4641f2-798f-4697-9920-9ee309a593f4\")) {\n",
       "                    Plotly.newPlot(\n",
       "                        '3c4641f2-798f-4697-9920-9ee309a593f4',\n",
       "                        [{\"alignmentgroup\": \"True\", \"hovertemplate\": \"variable=NS<br>x=%{x}<br>value=%{y}<extra></extra>\", \"legendgroup\": \"NS\", \"marker\": {\"color\": \"#636efa\"}, \"name\": \"NS\", \"offsetgroup\": \"NS\", \"orientation\": \"v\", \"showlegend\": true, \"textposition\": \"auto\", \"type\": \"bar\", \"x\": [\"Referenz\", \"80%-Pfad\", \"95%-Pfad\"], \"xaxis\": \"x\", \"y\": [25.0, 35.0, 38.0], \"yaxis\": \"y\"}, {\"alignmentgroup\": \"True\", \"hovertemplate\": \"variable=MS<br>x=%{x}<br>value=%{y}<extra></extra>\", \"legendgroup\": \"MS\", \"marker\": {\"color\": \"#EF553B\"}, \"name\": \"MS\", \"offsetgroup\": \"MS\", \"orientation\": \"v\", \"showlegend\": true, \"textposition\": \"auto\", \"type\": \"bar\", \"x\": [\"Referenz\", \"80%-Pfad\", \"95%-Pfad\"], \"xaxis\": \"x\", \"y\": [26.0, 33.0, 39.0], \"yaxis\": \"y\"}, {\"alignmentgroup\": \"True\", \"hovertemplate\": \"variable=HS<br>x=%{x}<br>value=%{y}<extra></extra>\", \"legendgroup\": \"HS\", \"marker\": {\"color\": \"#00cc96\"}, \"name\": \"HS\", \"offsetgroup\": \"HS\", \"orientation\": \"v\", \"showlegend\": true, \"textposition\": \"auto\", \"type\": \"bar\", \"x\": [\"Referenz\", \"80%-Pfad\", \"95%-Pfad\"], \"xaxis\": \"x\", \"y\": [12.0, 15.0, 18.0], \"yaxis\": \"y\"}],\n",
       "                        {\"barmode\": \"relative\", \"legend\": {\"title\": {\"text\": \"variable\"}, \"tracegroupgap\": 0}, \"template\": {\"data\": {\"bar\": [{\"error_x\": {\"color\": \"#2a3f5f\"}, \"error_y\": {\"color\": \"#2a3f5f\"}, \"marker\": {\"line\": {\"color\": \"#E5ECF6\", \"width\": 0.5}}, \"type\": \"bar\"}], \"barpolar\": [{\"marker\": {\"line\": {\"color\": \"#E5ECF6\", \"width\": 0.5}}, \"type\": \"barpolar\"}], \"carpet\": [{\"aaxis\": {\"endlinecolor\": \"#2a3f5f\", \"gridcolor\": \"white\", \"linecolor\": \"white\", \"minorgridcolor\": \"white\", \"startlinecolor\": \"#2a3f5f\"}, \"baxis\": {\"endlinecolor\": \"#2a3f5f\", \"gridcolor\": \"white\", \"linecolor\": \"white\", \"minorgridcolor\": \"white\", \"startlinecolor\": \"#2a3f5f\"}, \"type\": \"carpet\"}], \"choropleth\": [{\"colorbar\": {\"outlinewidth\": 0, \"ticks\": \"\"}, \"type\": \"choropleth\"}], \"contour\": [{\"colorbar\": {\"outlinewidth\": 0, \"ticks\": \"\"}, \"colorscale\": [[0.0, \"#0d0887\"], [0.1111111111111111, \"#46039f\"], [0.2222222222222222, \"#7201a8\"], [0.3333333333333333, \"#9c179e\"], [0.4444444444444444, \"#bd3786\"], [0.5555555555555556, \"#d8576b\"], [0.6666666666666666, \"#ed7953\"], [0.7777777777777778, \"#fb9f3a\"], [0.8888888888888888, \"#fdca26\"], [1.0, \"#f0f921\"]], \"type\": \"contour\"}], \"contourcarpet\": [{\"colorbar\": {\"outlinewidth\": 0, \"ticks\": \"\"}, \"type\": \"contourcarpet\"}], \"heatmap\": [{\"colorbar\": {\"outlinewidth\": 0, \"ticks\": \"\"}, \"colorscale\": [[0.0, \"#0d0887\"], [0.1111111111111111, \"#46039f\"], [0.2222222222222222, \"#7201a8\"], [0.3333333333333333, \"#9c179e\"], [0.4444444444444444, \"#bd3786\"], [0.5555555555555556, \"#d8576b\"], [0.6666666666666666, \"#ed7953\"], [0.7777777777777778, \"#fb9f3a\"], [0.8888888888888888, \"#fdca26\"], [1.0, \"#f0f921\"]], \"type\": \"heatmap\"}], \"heatmapgl\": [{\"colorbar\": {\"outlinewidth\": 0, \"ticks\": \"\"}, \"colorscale\": [[0.0, \"#0d0887\"], [0.1111111111111111, \"#46039f\"], [0.2222222222222222, \"#7201a8\"], [0.3333333333333333, \"#9c179e\"], [0.4444444444444444, \"#bd3786\"], [0.5555555555555556, \"#d8576b\"], [0.6666666666666666, \"#ed7953\"], [0.7777777777777778, \"#fb9f3a\"], [0.8888888888888888, \"#fdca26\"], [1.0, \"#f0f921\"]], \"type\": \"heatmapgl\"}], \"histogram\": [{\"marker\": {\"colorbar\": {\"outlinewidth\": 0, \"ticks\": \"\"}}, \"type\": \"histogram\"}], \"histogram2d\": [{\"colorbar\": {\"outlinewidth\": 0, \"ticks\": \"\"}, \"colorscale\": [[0.0, \"#0d0887\"], [0.1111111111111111, \"#46039f\"], [0.2222222222222222, \"#7201a8\"], [0.3333333333333333, \"#9c179e\"], [0.4444444444444444, \"#bd3786\"], [0.5555555555555556, \"#d8576b\"], [0.6666666666666666, \"#ed7953\"], [0.7777777777777778, \"#fb9f3a\"], [0.8888888888888888, \"#fdca26\"], [1.0, \"#f0f921\"]], \"type\": \"histogram2d\"}], \"histogram2dcontour\": [{\"colorbar\": {\"outlinewidth\": 0, \"ticks\": \"\"}, \"colorscale\": [[0.0, \"#0d0887\"], [0.1111111111111111, \"#46039f\"], [0.2222222222222222, \"#7201a8\"], [0.3333333333333333, \"#9c179e\"], [0.4444444444444444, \"#bd3786\"], [0.5555555555555556, \"#d8576b\"], [0.6666666666666666, \"#ed7953\"], [0.7777777777777778, \"#fb9f3a\"], [0.8888888888888888, \"#fdca26\"], [1.0, \"#f0f921\"]], \"type\": \"histogram2dcontour\"}], \"mesh3d\": [{\"colorbar\": {\"outlinewidth\": 0, \"ticks\": \"\"}, \"type\": \"mesh3d\"}], \"parcoords\": [{\"line\": {\"colorbar\": {\"outlinewidth\": 0, \"ticks\": \"\"}}, \"type\": \"parcoords\"}], \"pie\": [{\"automargin\": true, \"type\": \"pie\"}], \"scatter\": [{\"marker\": {\"colorbar\": {\"outlinewidth\": 0, \"ticks\": \"\"}}, \"type\": \"scatter\"}], \"scatter3d\": [{\"line\": {\"colorbar\": {\"outlinewidth\": 0, \"ticks\": \"\"}}, \"marker\": {\"colorbar\": {\"outlinewidth\": 0, \"ticks\": \"\"}}, \"type\": \"scatter3d\"}], \"scattercarpet\": [{\"marker\": {\"colorbar\": {\"outlinewidth\": 0, \"ticks\": \"\"}}, \"type\": \"scattercarpet\"}], \"scattergeo\": [{\"marker\": {\"colorbar\": {\"outlinewidth\": 0, \"ticks\": \"\"}}, \"type\": \"scattergeo\"}], \"scattergl\": [{\"marker\": {\"colorbar\": {\"outlinewidth\": 0, \"ticks\": \"\"}}, \"type\": \"scattergl\"}], \"scattermapbox\": [{\"marker\": {\"colorbar\": {\"outlinewidth\": 0, \"ticks\": \"\"}}, \"type\": \"scattermapbox\"}], \"scatterpolar\": [{\"marker\": {\"colorbar\": {\"outlinewidth\": 0, \"ticks\": \"\"}}, \"type\": \"scatterpolar\"}], \"scatterpolargl\": [{\"marker\": {\"colorbar\": {\"outlinewidth\": 0, \"ticks\": \"\"}}, \"type\": \"scatterpolargl\"}], \"scatterternary\": [{\"marker\": {\"colorbar\": {\"outlinewidth\": 0, \"ticks\": \"\"}}, \"type\": \"scatterternary\"}], \"surface\": [{\"colorbar\": {\"outlinewidth\": 0, \"ticks\": \"\"}, \"colorscale\": [[0.0, \"#0d0887\"], [0.1111111111111111, \"#46039f\"], [0.2222222222222222, \"#7201a8\"], [0.3333333333333333, \"#9c179e\"], [0.4444444444444444, \"#bd3786\"], [0.5555555555555556, \"#d8576b\"], [0.6666666666666666, \"#ed7953\"], [0.7777777777777778, \"#fb9f3a\"], [0.8888888888888888, \"#fdca26\"], [1.0, \"#f0f921\"]], \"type\": \"surface\"}], \"table\": [{\"cells\": {\"fill\": {\"color\": \"#EBF0F8\"}, \"line\": {\"color\": \"white\"}}, \"header\": {\"fill\": {\"color\": \"#C8D4E3\"}, \"line\": {\"color\": \"white\"}}, \"type\": \"table\"}]}, \"layout\": {\"annotationdefaults\": {\"arrowcolor\": \"#2a3f5f\", \"arrowhead\": 0, \"arrowwidth\": 1}, \"coloraxis\": {\"colorbar\": {\"outlinewidth\": 0, \"ticks\": \"\"}}, \"colorscale\": {\"diverging\": [[0, \"#8e0152\"], [0.1, \"#c51b7d\"], [0.2, \"#de77ae\"], [0.3, \"#f1b6da\"], [0.4, \"#fde0ef\"], [0.5, \"#f7f7f7\"], [0.6, \"#e6f5d0\"], [0.7, \"#b8e186\"], [0.8, \"#7fbc41\"], [0.9, \"#4d9221\"], [1, \"#276419\"]], \"sequential\": [[0.0, \"#0d0887\"], [0.1111111111111111, \"#46039f\"], [0.2222222222222222, \"#7201a8\"], [0.3333333333333333, \"#9c179e\"], [0.4444444444444444, \"#bd3786\"], [0.5555555555555556, \"#d8576b\"], [0.6666666666666666, \"#ed7953\"], [0.7777777777777778, \"#fb9f3a\"], [0.8888888888888888, \"#fdca26\"], [1.0, \"#f0f921\"]], \"sequentialminus\": [[0.0, \"#0d0887\"], [0.1111111111111111, \"#46039f\"], [0.2222222222222222, \"#7201a8\"], [0.3333333333333333, \"#9c179e\"], [0.4444444444444444, \"#bd3786\"], [0.5555555555555556, \"#d8576b\"], [0.6666666666666666, \"#ed7953\"], [0.7777777777777778, \"#fb9f3a\"], [0.8888888888888888, \"#fdca26\"], [1.0, \"#f0f921\"]]}, \"colorway\": [\"#636efa\", \"#EF553B\", \"#00cc96\", \"#ab63fa\", \"#FFA15A\", \"#19d3f3\", \"#FF6692\", \"#B6E880\", \"#FF97FF\", \"#FECB52\"], \"font\": {\"color\": \"#2a3f5f\"}, \"geo\": {\"bgcolor\": \"white\", \"lakecolor\": \"white\", \"landcolor\": \"#E5ECF6\", \"showlakes\": true, \"showland\": true, \"subunitcolor\": \"white\"}, \"hoverlabel\": {\"align\": \"left\"}, \"hovermode\": \"closest\", \"mapbox\": {\"style\": \"light\"}, \"paper_bgcolor\": \"white\", \"plot_bgcolor\": \"#E5ECF6\", \"polar\": {\"angularaxis\": {\"gridcolor\": \"white\", \"linecolor\": \"white\", \"ticks\": \"\"}, \"bgcolor\": \"#E5ECF6\", \"radialaxis\": {\"gridcolor\": \"white\", \"linecolor\": \"white\", \"ticks\": \"\"}}, \"scene\": {\"xaxis\": {\"backgroundcolor\": \"#E5ECF6\", \"gridcolor\": \"white\", \"gridwidth\": 2, \"linecolor\": \"white\", \"showbackground\": true, \"ticks\": \"\", \"zerolinecolor\": \"white\"}, \"yaxis\": {\"backgroundcolor\": \"#E5ECF6\", \"gridcolor\": \"white\", \"gridwidth\": 2, \"linecolor\": \"white\", \"showbackground\": true, \"ticks\": \"\", \"zerolinecolor\": \"white\"}, \"zaxis\": {\"backgroundcolor\": \"#E5ECF6\", \"gridcolor\": \"white\", \"gridwidth\": 2, \"linecolor\": \"white\", \"showbackground\": true, \"ticks\": \"\", \"zerolinecolor\": \"white\"}}, \"shapedefaults\": {\"line\": {\"color\": \"#2a3f5f\"}}, \"ternary\": {\"aaxis\": {\"gridcolor\": \"white\", \"linecolor\": \"white\", \"ticks\": \"\"}, \"baxis\": {\"gridcolor\": \"white\", \"linecolor\": \"white\", \"ticks\": \"\"}, \"bgcolor\": \"#E5ECF6\", \"caxis\": {\"gridcolor\": \"white\", \"linecolor\": \"white\", \"ticks\": \"\"}}, \"title\": {\"x\": 0.05}, \"xaxis\": {\"automargin\": true, \"gridcolor\": \"white\", \"linecolor\": \"white\", \"ticks\": \"\", \"title\": {\"standoff\": 15}, \"zerolinecolor\": \"white\", \"zerolinewidth\": 2}, \"yaxis\": {\"automargin\": true, \"gridcolor\": \"white\", \"linecolor\": \"white\", \"ticks\": \"\", \"title\": {\"standoff\": 15}, \"zerolinecolor\": \"white\", \"zerolinewidth\": 2}}}, \"title\": {\"text\": \"Investitionsbedarf in die deutschen Verteilnetze je Spannungsebene\"}, \"xaxis\": {\"anchor\": \"y\", \"domain\": [0.0, 1.0], \"title\": {\"text\": \"x\"}}, \"yaxis\": {\"anchor\": \"x\", \"domain\": [0.0, 1.0], \"title\": {\"text\": \"value\"}}},\n",
       "                        {\"responsive\": true}\n",
       "                    ).then(function(){\n",
       "                            \n",
       "var gd = document.getElementById('3c4641f2-798f-4697-9920-9ee309a593f4');\n",
       "var x = new MutationObserver(function (mutations, observer) {{\n",
       "        var display = window.getComputedStyle(gd).display;\n",
       "        if (!display || display === 'none') {{\n",
       "            console.log([gd, 'removed!']);\n",
       "            Plotly.purge(gd);\n",
       "            observer.disconnect();\n",
       "        }}\n",
       "}});\n",
       "\n",
       "// Listen for the removal of the full notebook cells\n",
       "var notebookContainer = gd.closest('#notebook-container');\n",
       "if (notebookContainer) {{\n",
       "    x.observe(notebookContainer, {childList: true});\n",
       "}}\n",
       "\n",
       "// Listen for the clearing of the current output cell\n",
       "var outputEl = gd.closest('.output');\n",
       "if (outputEl) {{\n",
       "    x.observe(outputEl, {childList: true});\n",
       "}}\n",
       "\n",
       "                        })\n",
       "                };\n",
       "                });\n",
       "            </script>\n",
       "        </div>"
      ]
     },
     "metadata": {},
     "output_type": "display_data"
    }
   ],
   "source": [
    "fig = px.bar(\n",
    "    df_DS_CAPEX.loc['BCG'],\n",
    "    x=df_DS_CAPEX.loc['BCG'].index.get_level_values(0),\n",
    "    y=[\"NS\", \"MS\", \"HS\"],\n",
    "    title=\"Investitionsbedarf in die deutschen Verteilnetze je Spannungsebene\")\n",
    "\n",
    "fig.show()"
   ]
  },
  {
   "cell_type": "markdown",
   "metadata": {},
   "source": [
    "# Visualisation - Ramp-Up"
   ]
  },
  {
   "cell_type": "code",
   "execution_count": 20,
   "metadata": {},
   "outputs": [],
   "source": [
    "# Read data\n",
    "df_RampUp = pd.read_excel(DataPath + 'RampUp.xlsx', parse_dates=[2], index_col=[0,1,2])"
   ]
  },
  {
   "cell_type": "code",
   "execution_count": 24,
   "metadata": {},
   "outputs": [
    {
     "data": {
      "application/vnd.plotly.v1+json": {
       "config": {
        "plotlyServerURL": "https://plot.ly"
       },
       "data": [
        {
         "marker": {
          "color": "rgba(193, 211, 234, 1.0)"
         },
         "name": "BEV",
         "showlegend": true,
         "type": "bar",
         "width": 0.5,
         "x": [
          [
           "dena",
           "dena",
           "dena",
           "BCG",
           "BCG",
           "BCG",
           "NPE 2018",
           "NPE 2018",
           "RENEWBILITY III",
           "RENEWBILITY III",
           "RENEWBILITY III",
           "RENEWBILITY III",
           "RENEWBILITY III",
           "RENEWBILITY III",
           "eMobil 2050",
           "eMobil 2050"
          ],
          [
           "Referenz",
           "Technologiemix",
           "Elektrifizierung",
           "Referenz",
           "80%-Pfad",
           "95%-Pfad",
           "konservativ",
           "optimistisch",
           "Basis",
           "Fokus Kraftstoffe",
           "Pkw-Maut",
           "ohne O-LKW",
           "Effizienz Plus",
           "Effizienz",
           "Regional eMobil",
           "Grenzenlos eMobil"
          ],
          [
           [
            "dena",
            "Referenz"
           ],
           [
            "dena",
            "Technologiemix"
           ],
           [
            "dena",
            "Elektrifizierung"
           ],
           [
            "BCG",
            "Referenz"
           ],
           [
            "BCG",
            "80%-Pfad"
           ],
           [
            "BCG",
            "95%-Pfad"
           ],
           [
            "NPE 2018",
            "konservativ"
           ],
           [
            "NPE 2018",
            "optimistisch"
           ],
           [
            "RENEWBILITY III",
            "Basis"
           ],
           [
            "RENEWBILITY III",
            "Fokus Kraftstoffe"
           ],
           [
            "RENEWBILITY III",
            "Pkw-Maut"
           ],
           [
            "RENEWBILITY III",
            "ohne O-LKW"
           ],
           [
            "RENEWBILITY III",
            "Effizienz Plus"
           ],
           [
            "RENEWBILITY III",
            "Effizienz"
           ],
           [
            "eMobil 2050",
            "Regional eMobil"
           ],
           [
            "eMobil 2050",
            "Grenzenlos eMobil"
           ]
          ]
         ],
         "y": [
          1.9,
          5.6,
          13.3,
          2,
          4,
          4,
          null,
          null,
          0.449,
          0.456,
          1.004,
          1.037,
          1.037,
          1.001,
          3,
          2
         ]
        },
        {
         "marker": {
          "color": "rgba(157, 188, 225, 1.0)"
         },
         "name": "PHEV",
         "showlegend": true,
         "type": "bar",
         "width": 0.5,
         "x": [
          [
           "dena",
           "dena",
           "dena",
           "BCG",
           "BCG",
           "BCG",
           "NPE 2018",
           "NPE 2018",
           "RENEWBILITY III",
           "RENEWBILITY III",
           "RENEWBILITY III",
           "RENEWBILITY III",
           "RENEWBILITY III",
           "RENEWBILITY III",
           "eMobil 2050",
           "eMobil 2050"
          ],
          [
           "Referenz",
           "Technologiemix",
           "Elektrifizierung",
           "Referenz",
           "80%-Pfad",
           "95%-Pfad",
           "konservativ",
           "optimistisch",
           "Basis",
           "Fokus Kraftstoffe",
           "Pkw-Maut",
           "ohne O-LKW",
           "Effizienz Plus",
           "Effizienz",
           "Regional eMobil",
           "Grenzenlos eMobil"
          ],
          [
           [
            "dena",
            "Referenz"
           ],
           [
            "dena",
            "Technologiemix"
           ],
           [
            "dena",
            "Elektrifizierung"
           ],
           [
            "BCG",
            "Referenz"
           ],
           [
            "BCG",
            "80%-Pfad"
           ],
           [
            "BCG",
            "95%-Pfad"
           ],
           [
            "NPE 2018",
            "konservativ"
           ],
           [
            "NPE 2018",
            "optimistisch"
           ],
           [
            "RENEWBILITY III",
            "Basis"
           ],
           [
            "RENEWBILITY III",
            "Fokus Kraftstoffe"
           ],
           [
            "RENEWBILITY III",
            "Pkw-Maut"
           ],
           [
            "RENEWBILITY III",
            "ohne O-LKW"
           ],
           [
            "RENEWBILITY III",
            "Effizienz Plus"
           ],
           [
            "RENEWBILITY III",
            "Effizienz"
           ],
           [
            "eMobil 2050",
            "Regional eMobil"
           ],
           [
            "eMobil 2050",
            "Grenzenlos eMobil"
           ]
          ]
         ],
         "y": [
          3.2,
          16.4,
          11,
          7,
          6,
          6,
          null,
          null,
          2.513,
          2.55,
          6.277,
          6.485,
          6.485,
          5.387,
          1,
          2
         ]
        },
        {
         "marker": {
          "color": "rgba(108, 162, 215, 1.0)"
         },
         "name": "FCV",
         "showlegend": true,
         "type": "bar",
         "width": 0.5,
         "x": [
          [
           "dena",
           "dena",
           "dena",
           "BCG",
           "BCG",
           "BCG",
           "NPE 2018",
           "NPE 2018",
           "RENEWBILITY III",
           "RENEWBILITY III",
           "RENEWBILITY III",
           "RENEWBILITY III",
           "RENEWBILITY III",
           "RENEWBILITY III",
           "eMobil 2050",
           "eMobil 2050"
          ],
          [
           "Referenz",
           "Technologiemix",
           "Elektrifizierung",
           "Referenz",
           "80%-Pfad",
           "95%-Pfad",
           "konservativ",
           "optimistisch",
           "Basis",
           "Fokus Kraftstoffe",
           "Pkw-Maut",
           "ohne O-LKW",
           "Effizienz Plus",
           "Effizienz",
           "Regional eMobil",
           "Grenzenlos eMobil"
          ],
          [
           [
            "dena",
            "Referenz"
           ],
           [
            "dena",
            "Technologiemix"
           ],
           [
            "dena",
            "Elektrifizierung"
           ],
           [
            "BCG",
            "Referenz"
           ],
           [
            "BCG",
            "80%-Pfad"
           ],
           [
            "BCG",
            "95%-Pfad"
           ],
           [
            "NPE 2018",
            "konservativ"
           ],
           [
            "NPE 2018",
            "optimistisch"
           ],
           [
            "RENEWBILITY III",
            "Basis"
           ],
           [
            "RENEWBILITY III",
            "Fokus Kraftstoffe"
           ],
           [
            "RENEWBILITY III",
            "Pkw-Maut"
           ],
           [
            "RENEWBILITY III",
            "ohne O-LKW"
           ],
           [
            "RENEWBILITY III",
            "Effizienz Plus"
           ],
           [
            "RENEWBILITY III",
            "Effizienz"
           ],
           [
            "eMobil 2050",
            "Regional eMobil"
           ],
           [
            "eMobil 2050",
            "Grenzenlos eMobil"
           ]
          ]
         ],
         "y": [
          0.9,
          2.2,
          1.2,
          0,
          0,
          0,
          null,
          null,
          0.004,
          0,
          0.007,
          0,
          0.008,
          0.008,
          null,
          null
         ]
        },
        {
         "marker": {
          "color": "rgba(083, 142, 196, 1.0)"
         },
         "name": "REEV",
         "showlegend": true,
         "type": "bar",
         "width": 0.5,
         "x": [
          [
           "dena",
           "dena",
           "dena",
           "BCG",
           "BCG",
           "BCG",
           "NPE 2018",
           "NPE 2018",
           "RENEWBILITY III",
           "RENEWBILITY III",
           "RENEWBILITY III",
           "RENEWBILITY III",
           "RENEWBILITY III",
           "RENEWBILITY III",
           "eMobil 2050",
           "eMobil 2050"
          ],
          [
           "Referenz",
           "Technologiemix",
           "Elektrifizierung",
           "Referenz",
           "80%-Pfad",
           "95%-Pfad",
           "konservativ",
           "optimistisch",
           "Basis",
           "Fokus Kraftstoffe",
           "Pkw-Maut",
           "ohne O-LKW",
           "Effizienz Plus",
           "Effizienz",
           "Regional eMobil",
           "Grenzenlos eMobil"
          ],
          [
           [
            "dena",
            "Referenz"
           ],
           [
            "dena",
            "Technologiemix"
           ],
           [
            "dena",
            "Elektrifizierung"
           ],
           [
            "BCG",
            "Referenz"
           ],
           [
            "BCG",
            "80%-Pfad"
           ],
           [
            "BCG",
            "95%-Pfad"
           ],
           [
            "NPE 2018",
            "konservativ"
           ],
           [
            "NPE 2018",
            "optimistisch"
           ],
           [
            "RENEWBILITY III",
            "Basis"
           ],
           [
            "RENEWBILITY III",
            "Fokus Kraftstoffe"
           ],
           [
            "RENEWBILITY III",
            "Pkw-Maut"
           ],
           [
            "RENEWBILITY III",
            "ohne O-LKW"
           ],
           [
            "RENEWBILITY III",
            "Effizienz Plus"
           ],
           [
            "RENEWBILITY III",
            "Effizienz"
           ],
           [
            "eMobil 2050",
            "Regional eMobil"
           ],
           [
            "eMobil 2050",
            "Grenzenlos eMobil"
           ]
          ]
         ],
         "y": [
          null,
          null,
          null,
          null,
          null,
          null,
          null,
          null,
          null,
          null,
          null,
          null,
          null,
          null,
          2,
          2
         ]
        },
        {
         "marker": {
          "color": "rgba(072, 124, 172, 1.0)"
         },
         "name": "Elektrofahrzeuge",
         "showlegend": true,
         "type": "bar",
         "width": 0.5,
         "x": [
          [
           "dena",
           "dena",
           "dena",
           "BCG",
           "BCG",
           "BCG",
           "NPE 2018",
           "NPE 2018",
           "RENEWBILITY III",
           "RENEWBILITY III",
           "RENEWBILITY III",
           "RENEWBILITY III",
           "RENEWBILITY III",
           "RENEWBILITY III",
           "eMobil 2050",
           "eMobil 2050"
          ],
          [
           "Referenz",
           "Technologiemix",
           "Elektrifizierung",
           "Referenz",
           "80%-Pfad",
           "95%-Pfad",
           "konservativ",
           "optimistisch",
           "Basis",
           "Fokus Kraftstoffe",
           "Pkw-Maut",
           "ohne O-LKW",
           "Effizienz Plus",
           "Effizienz",
           "Regional eMobil",
           "Grenzenlos eMobil"
          ],
          [
           [
            "dena",
            "Referenz"
           ],
           [
            "dena",
            "Technologiemix"
           ],
           [
            "dena",
            "Elektrifizierung"
           ],
           [
            "BCG",
            "Referenz"
           ],
           [
            "BCG",
            "80%-Pfad"
           ],
           [
            "BCG",
            "95%-Pfad"
           ],
           [
            "NPE 2018",
            "konservativ"
           ],
           [
            "NPE 2018",
            "optimistisch"
           ],
           [
            "RENEWBILITY III",
            "Basis"
           ],
           [
            "RENEWBILITY III",
            "Fokus Kraftstoffe"
           ],
           [
            "RENEWBILITY III",
            "Pkw-Maut"
           ],
           [
            "RENEWBILITY III",
            "ohne O-LKW"
           ],
           [
            "RENEWBILITY III",
            "Effizienz Plus"
           ],
           [
            "RENEWBILITY III",
            "Effizienz"
           ],
           [
            "eMobil 2050",
            "Regional eMobil"
           ],
           [
            "eMobil 2050",
            "Grenzenlos eMobil"
           ]
          ]
         ],
         "y": [
          null,
          null,
          null,
          null,
          null,
          null,
          4.2,
          7,
          null,
          null,
          null,
          null,
          null,
          null,
          null,
          null
         ]
        }
       ],
       "layout": {
        "autosize": false,
        "barmode": "stack",
        "legend": {
         "orientation": "h",
         "x": 1,
         "xanchor": "right",
         "y": 1.02,
         "yanchor": "bottom"
        },
        "template": {
         "data": {
          "bar": [
           {
            "error_x": {
             "color": "#2a3f5f"
            },
            "error_y": {
             "color": "#2a3f5f"
            },
            "marker": {
             "line": {
              "color": "white",
              "width": 0.5
             }
            },
            "type": "bar"
           }
          ],
          "barpolar": [
           {
            "marker": {
             "line": {
              "color": "white",
              "width": 0.5
             }
            },
            "type": "barpolar"
           }
          ],
          "carpet": [
           {
            "aaxis": {
             "endlinecolor": "#2a3f5f",
             "gridcolor": "#C8D4E3",
             "linecolor": "#C8D4E3",
             "minorgridcolor": "#C8D4E3",
             "startlinecolor": "#2a3f5f"
            },
            "baxis": {
             "endlinecolor": "#2a3f5f",
             "gridcolor": "#C8D4E3",
             "linecolor": "#C8D4E3",
             "minorgridcolor": "#C8D4E3",
             "startlinecolor": "#2a3f5f"
            },
            "type": "carpet"
           }
          ],
          "choropleth": [
           {
            "colorbar": {
             "outlinewidth": 0,
             "ticks": ""
            },
            "type": "choropleth"
           }
          ],
          "contour": [
           {
            "colorbar": {
             "outlinewidth": 0,
             "ticks": ""
            },
            "colorscale": [
             [
              0,
              "#0d0887"
             ],
             [
              0.1111111111111111,
              "#46039f"
             ],
             [
              0.2222222222222222,
              "#7201a8"
             ],
             [
              0.3333333333333333,
              "#9c179e"
             ],
             [
              0.4444444444444444,
              "#bd3786"
             ],
             [
              0.5555555555555556,
              "#d8576b"
             ],
             [
              0.6666666666666666,
              "#ed7953"
             ],
             [
              0.7777777777777778,
              "#fb9f3a"
             ],
             [
              0.8888888888888888,
              "#fdca26"
             ],
             [
              1,
              "#f0f921"
             ]
            ],
            "type": "contour"
           }
          ],
          "contourcarpet": [
           {
            "colorbar": {
             "outlinewidth": 0,
             "ticks": ""
            },
            "type": "contourcarpet"
           }
          ],
          "heatmap": [
           {
            "colorbar": {
             "outlinewidth": 0,
             "ticks": ""
            },
            "colorscale": [
             [
              0,
              "#0d0887"
             ],
             [
              0.1111111111111111,
              "#46039f"
             ],
             [
              0.2222222222222222,
              "#7201a8"
             ],
             [
              0.3333333333333333,
              "#9c179e"
             ],
             [
              0.4444444444444444,
              "#bd3786"
             ],
             [
              0.5555555555555556,
              "#d8576b"
             ],
             [
              0.6666666666666666,
              "#ed7953"
             ],
             [
              0.7777777777777778,
              "#fb9f3a"
             ],
             [
              0.8888888888888888,
              "#fdca26"
             ],
             [
              1,
              "#f0f921"
             ]
            ],
            "type": "heatmap"
           }
          ],
          "heatmapgl": [
           {
            "colorbar": {
             "outlinewidth": 0,
             "ticks": ""
            },
            "colorscale": [
             [
              0,
              "#0d0887"
             ],
             [
              0.1111111111111111,
              "#46039f"
             ],
             [
              0.2222222222222222,
              "#7201a8"
             ],
             [
              0.3333333333333333,
              "#9c179e"
             ],
             [
              0.4444444444444444,
              "#bd3786"
             ],
             [
              0.5555555555555556,
              "#d8576b"
             ],
             [
              0.6666666666666666,
              "#ed7953"
             ],
             [
              0.7777777777777778,
              "#fb9f3a"
             ],
             [
              0.8888888888888888,
              "#fdca26"
             ],
             [
              1,
              "#f0f921"
             ]
            ],
            "type": "heatmapgl"
           }
          ],
          "histogram": [
           {
            "marker": {
             "colorbar": {
              "outlinewidth": 0,
              "ticks": ""
             }
            },
            "type": "histogram"
           }
          ],
          "histogram2d": [
           {
            "colorbar": {
             "outlinewidth": 0,
             "ticks": ""
            },
            "colorscale": [
             [
              0,
              "#0d0887"
             ],
             [
              0.1111111111111111,
              "#46039f"
             ],
             [
              0.2222222222222222,
              "#7201a8"
             ],
             [
              0.3333333333333333,
              "#9c179e"
             ],
             [
              0.4444444444444444,
              "#bd3786"
             ],
             [
              0.5555555555555556,
              "#d8576b"
             ],
             [
              0.6666666666666666,
              "#ed7953"
             ],
             [
              0.7777777777777778,
              "#fb9f3a"
             ],
             [
              0.8888888888888888,
              "#fdca26"
             ],
             [
              1,
              "#f0f921"
             ]
            ],
            "type": "histogram2d"
           }
          ],
          "histogram2dcontour": [
           {
            "colorbar": {
             "outlinewidth": 0,
             "ticks": ""
            },
            "colorscale": [
             [
              0,
              "#0d0887"
             ],
             [
              0.1111111111111111,
              "#46039f"
             ],
             [
              0.2222222222222222,
              "#7201a8"
             ],
             [
              0.3333333333333333,
              "#9c179e"
             ],
             [
              0.4444444444444444,
              "#bd3786"
             ],
             [
              0.5555555555555556,
              "#d8576b"
             ],
             [
              0.6666666666666666,
              "#ed7953"
             ],
             [
              0.7777777777777778,
              "#fb9f3a"
             ],
             [
              0.8888888888888888,
              "#fdca26"
             ],
             [
              1,
              "#f0f921"
             ]
            ],
            "type": "histogram2dcontour"
           }
          ],
          "mesh3d": [
           {
            "colorbar": {
             "outlinewidth": 0,
             "ticks": ""
            },
            "type": "mesh3d"
           }
          ],
          "parcoords": [
           {
            "line": {
             "colorbar": {
              "outlinewidth": 0,
              "ticks": ""
             }
            },
            "type": "parcoords"
           }
          ],
          "pie": [
           {
            "automargin": true,
            "type": "pie"
           }
          ],
          "scatter": [
           {
            "marker": {
             "colorbar": {
              "outlinewidth": 0,
              "ticks": ""
             }
            },
            "type": "scatter"
           }
          ],
          "scatter3d": [
           {
            "line": {
             "colorbar": {
              "outlinewidth": 0,
              "ticks": ""
             }
            },
            "marker": {
             "colorbar": {
              "outlinewidth": 0,
              "ticks": ""
             }
            },
            "type": "scatter3d"
           }
          ],
          "scattercarpet": [
           {
            "marker": {
             "colorbar": {
              "outlinewidth": 0,
              "ticks": ""
             }
            },
            "type": "scattercarpet"
           }
          ],
          "scattergeo": [
           {
            "marker": {
             "colorbar": {
              "outlinewidth": 0,
              "ticks": ""
             }
            },
            "type": "scattergeo"
           }
          ],
          "scattergl": [
           {
            "marker": {
             "colorbar": {
              "outlinewidth": 0,
              "ticks": ""
             }
            },
            "type": "scattergl"
           }
          ],
          "scattermapbox": [
           {
            "marker": {
             "colorbar": {
              "outlinewidth": 0,
              "ticks": ""
             }
            },
            "type": "scattermapbox"
           }
          ],
          "scatterpolar": [
           {
            "marker": {
             "colorbar": {
              "outlinewidth": 0,
              "ticks": ""
             }
            },
            "type": "scatterpolar"
           }
          ],
          "scatterpolargl": [
           {
            "marker": {
             "colorbar": {
              "outlinewidth": 0,
              "ticks": ""
             }
            },
            "type": "scatterpolargl"
           }
          ],
          "scatterternary": [
           {
            "marker": {
             "colorbar": {
              "outlinewidth": 0,
              "ticks": ""
             }
            },
            "type": "scatterternary"
           }
          ],
          "surface": [
           {
            "colorbar": {
             "outlinewidth": 0,
             "ticks": ""
            },
            "colorscale": [
             [
              0,
              "#0d0887"
             ],
             [
              0.1111111111111111,
              "#46039f"
             ],
             [
              0.2222222222222222,
              "#7201a8"
             ],
             [
              0.3333333333333333,
              "#9c179e"
             ],
             [
              0.4444444444444444,
              "#bd3786"
             ],
             [
              0.5555555555555556,
              "#d8576b"
             ],
             [
              0.6666666666666666,
              "#ed7953"
             ],
             [
              0.7777777777777778,
              "#fb9f3a"
             ],
             [
              0.8888888888888888,
              "#fdca26"
             ],
             [
              1,
              "#f0f921"
             ]
            ],
            "type": "surface"
           }
          ],
          "table": [
           {
            "cells": {
             "fill": {
              "color": "#EBF0F8"
             },
             "line": {
              "color": "white"
             }
            },
            "header": {
             "fill": {
              "color": "#C8D4E3"
             },
             "line": {
              "color": "white"
             }
            },
            "type": "table"
           }
          ]
         },
         "layout": {
          "annotationdefaults": {
           "arrowcolor": "#2a3f5f",
           "arrowhead": 0,
           "arrowwidth": 1
          },
          "coloraxis": {
           "colorbar": {
            "outlinewidth": 0,
            "ticks": ""
           }
          },
          "colorscale": {
           "diverging": [
            [
             0,
             "#8e0152"
            ],
            [
             0.1,
             "#c51b7d"
            ],
            [
             0.2,
             "#de77ae"
            ],
            [
             0.3,
             "#f1b6da"
            ],
            [
             0.4,
             "#fde0ef"
            ],
            [
             0.5,
             "#f7f7f7"
            ],
            [
             0.6,
             "#e6f5d0"
            ],
            [
             0.7,
             "#b8e186"
            ],
            [
             0.8,
             "#7fbc41"
            ],
            [
             0.9,
             "#4d9221"
            ],
            [
             1,
             "#276419"
            ]
           ],
           "sequential": [
            [
             0,
             "#0d0887"
            ],
            [
             0.1111111111111111,
             "#46039f"
            ],
            [
             0.2222222222222222,
             "#7201a8"
            ],
            [
             0.3333333333333333,
             "#9c179e"
            ],
            [
             0.4444444444444444,
             "#bd3786"
            ],
            [
             0.5555555555555556,
             "#d8576b"
            ],
            [
             0.6666666666666666,
             "#ed7953"
            ],
            [
             0.7777777777777778,
             "#fb9f3a"
            ],
            [
             0.8888888888888888,
             "#fdca26"
            ],
            [
             1,
             "#f0f921"
            ]
           ],
           "sequentialminus": [
            [
             0,
             "#0d0887"
            ],
            [
             0.1111111111111111,
             "#46039f"
            ],
            [
             0.2222222222222222,
             "#7201a8"
            ],
            [
             0.3333333333333333,
             "#9c179e"
            ],
            [
             0.4444444444444444,
             "#bd3786"
            ],
            [
             0.5555555555555556,
             "#d8576b"
            ],
            [
             0.6666666666666666,
             "#ed7953"
            ],
            [
             0.7777777777777778,
             "#fb9f3a"
            ],
            [
             0.8888888888888888,
             "#fdca26"
            ],
            [
             1,
             "#f0f921"
            ]
           ]
          },
          "colorway": [
           "#636efa",
           "#EF553B",
           "#00cc96",
           "#ab63fa",
           "#FFA15A",
           "#19d3f3",
           "#FF6692",
           "#B6E880",
           "#FF97FF",
           "#FECB52"
          ],
          "font": {
           "color": "#2a3f5f"
          },
          "geo": {
           "bgcolor": "white",
           "lakecolor": "white",
           "landcolor": "white",
           "showlakes": true,
           "showland": true,
           "subunitcolor": "#C8D4E3"
          },
          "hoverlabel": {
           "align": "left"
          },
          "hovermode": "closest",
          "mapbox": {
           "style": "light"
          },
          "paper_bgcolor": "white",
          "plot_bgcolor": "white",
          "polar": {
           "angularaxis": {
            "gridcolor": "#EBF0F8",
            "linecolor": "#EBF0F8",
            "ticks": ""
           },
           "bgcolor": "white",
           "radialaxis": {
            "gridcolor": "#EBF0F8",
            "linecolor": "#EBF0F8",
            "ticks": ""
           }
          },
          "scene": {
           "xaxis": {
            "backgroundcolor": "white",
            "gridcolor": "#DFE8F3",
            "gridwidth": 2,
            "linecolor": "#EBF0F8",
            "showbackground": true,
            "ticks": "",
            "zerolinecolor": "#EBF0F8"
           },
           "yaxis": {
            "backgroundcolor": "white",
            "gridcolor": "#DFE8F3",
            "gridwidth": 2,
            "linecolor": "#EBF0F8",
            "showbackground": true,
            "ticks": "",
            "zerolinecolor": "#EBF0F8"
           },
           "zaxis": {
            "backgroundcolor": "white",
            "gridcolor": "#DFE8F3",
            "gridwidth": 2,
            "linecolor": "#EBF0F8",
            "showbackground": true,
            "ticks": "",
            "zerolinecolor": "#EBF0F8"
           }
          },
          "shapedefaults": {
           "line": {
            "color": "#2a3f5f"
           }
          },
          "ternary": {
           "aaxis": {
            "gridcolor": "#DFE8F3",
            "linecolor": "#A2B1C6",
            "ticks": ""
           },
           "baxis": {
            "gridcolor": "#DFE8F3",
            "linecolor": "#A2B1C6",
            "ticks": ""
           },
           "bgcolor": "white",
           "caxis": {
            "gridcolor": "#DFE8F3",
            "linecolor": "#A2B1C6",
            "ticks": ""
           }
          },
          "title": {
           "x": 0.05
          },
          "xaxis": {
           "automargin": true,
           "gridcolor": "#EBF0F8",
           "linecolor": "#EBF0F8",
           "ticks": "",
           "title": {
            "standoff": 15
           },
           "zerolinecolor": "#EBF0F8",
           "zerolinewidth": 2
          },
          "yaxis": {
           "automargin": true,
           "gridcolor": "#EBF0F8",
           "linecolor": "#EBF0F8",
           "ticks": "",
           "title": {
            "standoff": 15
           },
           "zerolinecolor": "#EBF0F8",
           "zerolinewidth": 2
          }
         }
        },
        "title": {
         "text": "Fahrzeughochlauf<br>alternativer Antriebstechnologien bis 2030"
        },
        "width": 1000.0629921378601,
        "xaxis": {
         "tickfont": {
          "size": 12
         },
         "title": {
          "font": {
           "size": 16
          }
         }
        },
        "yaxis": {
         "showspikes": true,
         "tickfont": {
          "size": 12
         },
         "title": {
          "text": "Mio. Stk."
         }
        }
       }
      },
      "text/html": [
       "<div>\n",
       "        \n",
       "        \n",
       "            <div id=\"33699ed5-b90a-4b46-87e2-8011587f0281\" class=\"plotly-graph-div\" style=\"height:525px; width:1000.0629921378601px;\"></div>\n",
       "            <script type=\"text/javascript\">\n",
       "                require([\"plotly\"], function(Plotly) {\n",
       "                    window.PLOTLYENV=window.PLOTLYENV || {};\n",
       "                    \n",
       "                if (document.getElementById(\"33699ed5-b90a-4b46-87e2-8011587f0281\")) {\n",
       "                    Plotly.newPlot(\n",
       "                        '33699ed5-b90a-4b46-87e2-8011587f0281',\n",
       "                        [{\"marker\": {\"color\": \"rgba(193, 211, 234, 1.0)\"}, \"name\": \"BEV\", \"showlegend\": true, \"type\": \"bar\", \"width\": 0.5, \"x\": [[\"dena\", \"dena\", \"dena\", \"BCG\", \"BCG\", \"BCG\", \"NPE 2018\", \"NPE 2018\", \"RENEWBILITY III\", \"RENEWBILITY III\", \"RENEWBILITY III\", \"RENEWBILITY III\", \"RENEWBILITY III\", \"RENEWBILITY III\", \"eMobil 2050\", \"eMobil 2050\"], [\"Referenz\", \"Technologiemix\", \"Elektrifizierung\", \"Referenz\", \"80%-Pfad\", \"95%-Pfad\", \"konservativ\", \"optimistisch\", \"Basis\", \"Fokus Kraftstoffe\", \"Pkw-Maut\", \"ohne O-LKW\", \"Effizienz Plus\", \"Effizienz\", \"Regional eMobil\", \"Grenzenlos eMobil\"], [[\"dena\", \"Referenz\"], [\"dena\", \"Technologiemix\"], [\"dena\", \"Elektrifizierung\"], [\"BCG\", \"Referenz\"], [\"BCG\", \"80%-Pfad\"], [\"BCG\", \"95%-Pfad\"], [\"NPE 2018\", \"konservativ\"], [\"NPE 2018\", \"optimistisch\"], [\"RENEWBILITY III\", \"Basis\"], [\"RENEWBILITY III\", \"Fokus Kraftstoffe\"], [\"RENEWBILITY III\", \"Pkw-Maut\"], [\"RENEWBILITY III\", \"ohne O-LKW\"], [\"RENEWBILITY III\", \"Effizienz Plus\"], [\"RENEWBILITY III\", \"Effizienz\"], [\"eMobil 2050\", \"Regional eMobil\"], [\"eMobil 2050\", \"Grenzenlos eMobil\"]]], \"y\": [1.9, 5.6, 13.3, 2.0, 4.0, 4.0, null, null, 0.449, 0.456, 1.004, 1.037, 1.037, 1.001, 3.0, 2.0]}, {\"marker\": {\"color\": \"rgba(157, 188, 225, 1.0)\"}, \"name\": \"PHEV\", \"showlegend\": true, \"type\": \"bar\", \"width\": 0.5, \"x\": [[\"dena\", \"dena\", \"dena\", \"BCG\", \"BCG\", \"BCG\", \"NPE 2018\", \"NPE 2018\", \"RENEWBILITY III\", \"RENEWBILITY III\", \"RENEWBILITY III\", \"RENEWBILITY III\", \"RENEWBILITY III\", \"RENEWBILITY III\", \"eMobil 2050\", \"eMobil 2050\"], [\"Referenz\", \"Technologiemix\", \"Elektrifizierung\", \"Referenz\", \"80%-Pfad\", \"95%-Pfad\", \"konservativ\", \"optimistisch\", \"Basis\", \"Fokus Kraftstoffe\", \"Pkw-Maut\", \"ohne O-LKW\", \"Effizienz Plus\", \"Effizienz\", \"Regional eMobil\", \"Grenzenlos eMobil\"], [[\"dena\", \"Referenz\"], [\"dena\", \"Technologiemix\"], [\"dena\", \"Elektrifizierung\"], [\"BCG\", \"Referenz\"], [\"BCG\", \"80%-Pfad\"], [\"BCG\", \"95%-Pfad\"], [\"NPE 2018\", \"konservativ\"], [\"NPE 2018\", \"optimistisch\"], [\"RENEWBILITY III\", \"Basis\"], [\"RENEWBILITY III\", \"Fokus Kraftstoffe\"], [\"RENEWBILITY III\", \"Pkw-Maut\"], [\"RENEWBILITY III\", \"ohne O-LKW\"], [\"RENEWBILITY III\", \"Effizienz Plus\"], [\"RENEWBILITY III\", \"Effizienz\"], [\"eMobil 2050\", \"Regional eMobil\"], [\"eMobil 2050\", \"Grenzenlos eMobil\"]]], \"y\": [3.2, 16.4, 11.0, 7.0, 6.0, 6.0, null, null, 2.513, 2.55, 6.277, 6.485, 6.485, 5.387, 1.0, 2.0]}, {\"marker\": {\"color\": \"rgba(108, 162, 215, 1.0)\"}, \"name\": \"FCV\", \"showlegend\": true, \"type\": \"bar\", \"width\": 0.5, \"x\": [[\"dena\", \"dena\", \"dena\", \"BCG\", \"BCG\", \"BCG\", \"NPE 2018\", \"NPE 2018\", \"RENEWBILITY III\", \"RENEWBILITY III\", \"RENEWBILITY III\", \"RENEWBILITY III\", \"RENEWBILITY III\", \"RENEWBILITY III\", \"eMobil 2050\", \"eMobil 2050\"], [\"Referenz\", \"Technologiemix\", \"Elektrifizierung\", \"Referenz\", \"80%-Pfad\", \"95%-Pfad\", \"konservativ\", \"optimistisch\", \"Basis\", \"Fokus Kraftstoffe\", \"Pkw-Maut\", \"ohne O-LKW\", \"Effizienz Plus\", \"Effizienz\", \"Regional eMobil\", \"Grenzenlos eMobil\"], [[\"dena\", \"Referenz\"], [\"dena\", \"Technologiemix\"], [\"dena\", \"Elektrifizierung\"], [\"BCG\", \"Referenz\"], [\"BCG\", \"80%-Pfad\"], [\"BCG\", \"95%-Pfad\"], [\"NPE 2018\", \"konservativ\"], [\"NPE 2018\", \"optimistisch\"], [\"RENEWBILITY III\", \"Basis\"], [\"RENEWBILITY III\", \"Fokus Kraftstoffe\"], [\"RENEWBILITY III\", \"Pkw-Maut\"], [\"RENEWBILITY III\", \"ohne O-LKW\"], [\"RENEWBILITY III\", \"Effizienz Plus\"], [\"RENEWBILITY III\", \"Effizienz\"], [\"eMobil 2050\", \"Regional eMobil\"], [\"eMobil 2050\", \"Grenzenlos eMobil\"]]], \"y\": [0.9, 2.2, 1.2, 0.0, 0.0, 0.0, null, null, 0.004, 0.0, 0.007, 0.0, 0.008, 0.008, null, null]}, {\"marker\": {\"color\": \"rgba(083, 142, 196, 1.0)\"}, \"name\": \"REEV\", \"showlegend\": true, \"type\": \"bar\", \"width\": 0.5, \"x\": [[\"dena\", \"dena\", \"dena\", \"BCG\", \"BCG\", \"BCG\", \"NPE 2018\", \"NPE 2018\", \"RENEWBILITY III\", \"RENEWBILITY III\", \"RENEWBILITY III\", \"RENEWBILITY III\", \"RENEWBILITY III\", \"RENEWBILITY III\", \"eMobil 2050\", \"eMobil 2050\"], [\"Referenz\", \"Technologiemix\", \"Elektrifizierung\", \"Referenz\", \"80%-Pfad\", \"95%-Pfad\", \"konservativ\", \"optimistisch\", \"Basis\", \"Fokus Kraftstoffe\", \"Pkw-Maut\", \"ohne O-LKW\", \"Effizienz Plus\", \"Effizienz\", \"Regional eMobil\", \"Grenzenlos eMobil\"], [[\"dena\", \"Referenz\"], [\"dena\", \"Technologiemix\"], [\"dena\", \"Elektrifizierung\"], [\"BCG\", \"Referenz\"], [\"BCG\", \"80%-Pfad\"], [\"BCG\", \"95%-Pfad\"], [\"NPE 2018\", \"konservativ\"], [\"NPE 2018\", \"optimistisch\"], [\"RENEWBILITY III\", \"Basis\"], [\"RENEWBILITY III\", \"Fokus Kraftstoffe\"], [\"RENEWBILITY III\", \"Pkw-Maut\"], [\"RENEWBILITY III\", \"ohne O-LKW\"], [\"RENEWBILITY III\", \"Effizienz Plus\"], [\"RENEWBILITY III\", \"Effizienz\"], [\"eMobil 2050\", \"Regional eMobil\"], [\"eMobil 2050\", \"Grenzenlos eMobil\"]]], \"y\": [null, null, null, null, null, null, null, null, null, null, null, null, null, null, 2.0, 2.0]}, {\"marker\": {\"color\": \"rgba(072, 124, 172, 1.0)\"}, \"name\": \"Elektrofahrzeuge\", \"showlegend\": true, \"type\": \"bar\", \"width\": 0.5, \"x\": [[\"dena\", \"dena\", \"dena\", \"BCG\", \"BCG\", \"BCG\", \"NPE 2018\", \"NPE 2018\", \"RENEWBILITY III\", \"RENEWBILITY III\", \"RENEWBILITY III\", \"RENEWBILITY III\", \"RENEWBILITY III\", \"RENEWBILITY III\", \"eMobil 2050\", \"eMobil 2050\"], [\"Referenz\", \"Technologiemix\", \"Elektrifizierung\", \"Referenz\", \"80%-Pfad\", \"95%-Pfad\", \"konservativ\", \"optimistisch\", \"Basis\", \"Fokus Kraftstoffe\", \"Pkw-Maut\", \"ohne O-LKW\", \"Effizienz Plus\", \"Effizienz\", \"Regional eMobil\", \"Grenzenlos eMobil\"], [[\"dena\", \"Referenz\"], [\"dena\", \"Technologiemix\"], [\"dena\", \"Elektrifizierung\"], [\"BCG\", \"Referenz\"], [\"BCG\", \"80%-Pfad\"], [\"BCG\", \"95%-Pfad\"], [\"NPE 2018\", \"konservativ\"], [\"NPE 2018\", \"optimistisch\"], [\"RENEWBILITY III\", \"Basis\"], [\"RENEWBILITY III\", \"Fokus Kraftstoffe\"], [\"RENEWBILITY III\", \"Pkw-Maut\"], [\"RENEWBILITY III\", \"ohne O-LKW\"], [\"RENEWBILITY III\", \"Effizienz Plus\"], [\"RENEWBILITY III\", \"Effizienz\"], [\"eMobil 2050\", \"Regional eMobil\"], [\"eMobil 2050\", \"Grenzenlos eMobil\"]]], \"y\": [null, null, null, null, null, null, 4.2, 7.0, null, null, null, null, null, null, null, null]}],\n",
       "                        {\"autosize\": false, \"barmode\": \"stack\", \"legend\": {\"orientation\": \"h\", \"x\": 1, \"xanchor\": \"right\", \"y\": 1.02, \"yanchor\": \"bottom\"}, \"template\": {\"data\": {\"bar\": [{\"error_x\": {\"color\": \"#2a3f5f\"}, \"error_y\": {\"color\": \"#2a3f5f\"}, \"marker\": {\"line\": {\"color\": \"white\", \"width\": 0.5}}, \"type\": \"bar\"}], \"barpolar\": [{\"marker\": {\"line\": {\"color\": \"white\", \"width\": 0.5}}, \"type\": \"barpolar\"}], \"carpet\": [{\"aaxis\": {\"endlinecolor\": \"#2a3f5f\", \"gridcolor\": \"#C8D4E3\", \"linecolor\": \"#C8D4E3\", \"minorgridcolor\": \"#C8D4E3\", \"startlinecolor\": \"#2a3f5f\"}, \"baxis\": {\"endlinecolor\": \"#2a3f5f\", \"gridcolor\": \"#C8D4E3\", \"linecolor\": \"#C8D4E3\", \"minorgridcolor\": \"#C8D4E3\", \"startlinecolor\": \"#2a3f5f\"}, \"type\": \"carpet\"}], \"choropleth\": [{\"colorbar\": {\"outlinewidth\": 0, \"ticks\": \"\"}, \"type\": \"choropleth\"}], \"contour\": [{\"colorbar\": {\"outlinewidth\": 0, \"ticks\": \"\"}, \"colorscale\": [[0.0, \"#0d0887\"], [0.1111111111111111, \"#46039f\"], [0.2222222222222222, \"#7201a8\"], [0.3333333333333333, \"#9c179e\"], [0.4444444444444444, \"#bd3786\"], [0.5555555555555556, \"#d8576b\"], [0.6666666666666666, \"#ed7953\"], [0.7777777777777778, \"#fb9f3a\"], [0.8888888888888888, \"#fdca26\"], [1.0, \"#f0f921\"]], \"type\": \"contour\"}], \"contourcarpet\": [{\"colorbar\": {\"outlinewidth\": 0, \"ticks\": \"\"}, \"type\": \"contourcarpet\"}], \"heatmap\": [{\"colorbar\": {\"outlinewidth\": 0, \"ticks\": \"\"}, \"colorscale\": [[0.0, \"#0d0887\"], [0.1111111111111111, \"#46039f\"], [0.2222222222222222, \"#7201a8\"], [0.3333333333333333, \"#9c179e\"], [0.4444444444444444, \"#bd3786\"], [0.5555555555555556, \"#d8576b\"], [0.6666666666666666, \"#ed7953\"], [0.7777777777777778, \"#fb9f3a\"], [0.8888888888888888, \"#fdca26\"], [1.0, \"#f0f921\"]], \"type\": \"heatmap\"}], \"heatmapgl\": [{\"colorbar\": {\"outlinewidth\": 0, \"ticks\": \"\"}, \"colorscale\": [[0.0, \"#0d0887\"], [0.1111111111111111, \"#46039f\"], [0.2222222222222222, \"#7201a8\"], [0.3333333333333333, \"#9c179e\"], [0.4444444444444444, \"#bd3786\"], [0.5555555555555556, \"#d8576b\"], [0.6666666666666666, \"#ed7953\"], [0.7777777777777778, \"#fb9f3a\"], [0.8888888888888888, \"#fdca26\"], [1.0, \"#f0f921\"]], \"type\": \"heatmapgl\"}], \"histogram\": [{\"marker\": {\"colorbar\": {\"outlinewidth\": 0, \"ticks\": \"\"}}, \"type\": \"histogram\"}], \"histogram2d\": [{\"colorbar\": {\"outlinewidth\": 0, \"ticks\": \"\"}, \"colorscale\": [[0.0, \"#0d0887\"], [0.1111111111111111, \"#46039f\"], [0.2222222222222222, \"#7201a8\"], [0.3333333333333333, \"#9c179e\"], [0.4444444444444444, \"#bd3786\"], [0.5555555555555556, \"#d8576b\"], [0.6666666666666666, \"#ed7953\"], [0.7777777777777778, \"#fb9f3a\"], [0.8888888888888888, \"#fdca26\"], [1.0, \"#f0f921\"]], \"type\": \"histogram2d\"}], \"histogram2dcontour\": [{\"colorbar\": {\"outlinewidth\": 0, \"ticks\": \"\"}, \"colorscale\": [[0.0, \"#0d0887\"], [0.1111111111111111, \"#46039f\"], [0.2222222222222222, \"#7201a8\"], [0.3333333333333333, \"#9c179e\"], [0.4444444444444444, \"#bd3786\"], [0.5555555555555556, \"#d8576b\"], [0.6666666666666666, \"#ed7953\"], [0.7777777777777778, \"#fb9f3a\"], [0.8888888888888888, \"#fdca26\"], [1.0, \"#f0f921\"]], \"type\": \"histogram2dcontour\"}], \"mesh3d\": [{\"colorbar\": {\"outlinewidth\": 0, \"ticks\": \"\"}, \"type\": \"mesh3d\"}], \"parcoords\": [{\"line\": {\"colorbar\": {\"outlinewidth\": 0, \"ticks\": \"\"}}, \"type\": \"parcoords\"}], \"pie\": [{\"automargin\": true, \"type\": \"pie\"}], \"scatter\": [{\"marker\": {\"colorbar\": {\"outlinewidth\": 0, \"ticks\": \"\"}}, \"type\": \"scatter\"}], \"scatter3d\": [{\"line\": {\"colorbar\": {\"outlinewidth\": 0, \"ticks\": \"\"}}, \"marker\": {\"colorbar\": {\"outlinewidth\": 0, \"ticks\": \"\"}}, \"type\": \"scatter3d\"}], \"scattercarpet\": [{\"marker\": {\"colorbar\": {\"outlinewidth\": 0, \"ticks\": \"\"}}, \"type\": \"scattercarpet\"}], \"scattergeo\": [{\"marker\": {\"colorbar\": {\"outlinewidth\": 0, \"ticks\": \"\"}}, \"type\": \"scattergeo\"}], \"scattergl\": [{\"marker\": {\"colorbar\": {\"outlinewidth\": 0, \"ticks\": \"\"}}, \"type\": \"scattergl\"}], \"scattermapbox\": [{\"marker\": {\"colorbar\": {\"outlinewidth\": 0, \"ticks\": \"\"}}, \"type\": \"scattermapbox\"}], \"scatterpolar\": [{\"marker\": {\"colorbar\": {\"outlinewidth\": 0, \"ticks\": \"\"}}, \"type\": \"scatterpolar\"}], \"scatterpolargl\": [{\"marker\": {\"colorbar\": {\"outlinewidth\": 0, \"ticks\": \"\"}}, \"type\": \"scatterpolargl\"}], \"scatterternary\": [{\"marker\": {\"colorbar\": {\"outlinewidth\": 0, \"ticks\": \"\"}}, \"type\": \"scatterternary\"}], \"surface\": [{\"colorbar\": {\"outlinewidth\": 0, \"ticks\": \"\"}, \"colorscale\": [[0.0, \"#0d0887\"], [0.1111111111111111, \"#46039f\"], [0.2222222222222222, \"#7201a8\"], [0.3333333333333333, \"#9c179e\"], [0.4444444444444444, \"#bd3786\"], [0.5555555555555556, \"#d8576b\"], [0.6666666666666666, \"#ed7953\"], [0.7777777777777778, \"#fb9f3a\"], [0.8888888888888888, \"#fdca26\"], [1.0, \"#f0f921\"]], \"type\": \"surface\"}], \"table\": [{\"cells\": {\"fill\": {\"color\": \"#EBF0F8\"}, \"line\": {\"color\": \"white\"}}, \"header\": {\"fill\": {\"color\": \"#C8D4E3\"}, \"line\": {\"color\": \"white\"}}, \"type\": \"table\"}]}, \"layout\": {\"annotationdefaults\": {\"arrowcolor\": \"#2a3f5f\", \"arrowhead\": 0, \"arrowwidth\": 1}, \"coloraxis\": {\"colorbar\": {\"outlinewidth\": 0, \"ticks\": \"\"}}, \"colorscale\": {\"diverging\": [[0, \"#8e0152\"], [0.1, \"#c51b7d\"], [0.2, \"#de77ae\"], [0.3, \"#f1b6da\"], [0.4, \"#fde0ef\"], [0.5, \"#f7f7f7\"], [0.6, \"#e6f5d0\"], [0.7, \"#b8e186\"], [0.8, \"#7fbc41\"], [0.9, \"#4d9221\"], [1, \"#276419\"]], \"sequential\": [[0.0, \"#0d0887\"], [0.1111111111111111, \"#46039f\"], [0.2222222222222222, \"#7201a8\"], [0.3333333333333333, \"#9c179e\"], [0.4444444444444444, \"#bd3786\"], [0.5555555555555556, \"#d8576b\"], [0.6666666666666666, \"#ed7953\"], [0.7777777777777778, \"#fb9f3a\"], [0.8888888888888888, \"#fdca26\"], [1.0, \"#f0f921\"]], \"sequentialminus\": [[0.0, \"#0d0887\"], [0.1111111111111111, \"#46039f\"], [0.2222222222222222, \"#7201a8\"], [0.3333333333333333, \"#9c179e\"], [0.4444444444444444, \"#bd3786\"], [0.5555555555555556, \"#d8576b\"], [0.6666666666666666, \"#ed7953\"], [0.7777777777777778, \"#fb9f3a\"], [0.8888888888888888, \"#fdca26\"], [1.0, \"#f0f921\"]]}, \"colorway\": [\"#636efa\", \"#EF553B\", \"#00cc96\", \"#ab63fa\", \"#FFA15A\", \"#19d3f3\", \"#FF6692\", \"#B6E880\", \"#FF97FF\", \"#FECB52\"], \"font\": {\"color\": \"#2a3f5f\"}, \"geo\": {\"bgcolor\": \"white\", \"lakecolor\": \"white\", \"landcolor\": \"white\", \"showlakes\": true, \"showland\": true, \"subunitcolor\": \"#C8D4E3\"}, \"hoverlabel\": {\"align\": \"left\"}, \"hovermode\": \"closest\", \"mapbox\": {\"style\": \"light\"}, \"paper_bgcolor\": \"white\", \"plot_bgcolor\": \"white\", \"polar\": {\"angularaxis\": {\"gridcolor\": \"#EBF0F8\", \"linecolor\": \"#EBF0F8\", \"ticks\": \"\"}, \"bgcolor\": \"white\", \"radialaxis\": {\"gridcolor\": \"#EBF0F8\", \"linecolor\": \"#EBF0F8\", \"ticks\": \"\"}}, \"scene\": {\"xaxis\": {\"backgroundcolor\": \"white\", \"gridcolor\": \"#DFE8F3\", \"gridwidth\": 2, \"linecolor\": \"#EBF0F8\", \"showbackground\": true, \"ticks\": \"\", \"zerolinecolor\": \"#EBF0F8\"}, \"yaxis\": {\"backgroundcolor\": \"white\", \"gridcolor\": \"#DFE8F3\", \"gridwidth\": 2, \"linecolor\": \"#EBF0F8\", \"showbackground\": true, \"ticks\": \"\", \"zerolinecolor\": \"#EBF0F8\"}, \"zaxis\": {\"backgroundcolor\": \"white\", \"gridcolor\": \"#DFE8F3\", \"gridwidth\": 2, \"linecolor\": \"#EBF0F8\", \"showbackground\": true, \"ticks\": \"\", \"zerolinecolor\": \"#EBF0F8\"}}, \"shapedefaults\": {\"line\": {\"color\": \"#2a3f5f\"}}, \"ternary\": {\"aaxis\": {\"gridcolor\": \"#DFE8F3\", \"linecolor\": \"#A2B1C6\", \"ticks\": \"\"}, \"baxis\": {\"gridcolor\": \"#DFE8F3\", \"linecolor\": \"#A2B1C6\", \"ticks\": \"\"}, \"bgcolor\": \"white\", \"caxis\": {\"gridcolor\": \"#DFE8F3\", \"linecolor\": \"#A2B1C6\", \"ticks\": \"\"}}, \"title\": {\"x\": 0.05}, \"xaxis\": {\"automargin\": true, \"gridcolor\": \"#EBF0F8\", \"linecolor\": \"#EBF0F8\", \"ticks\": \"\", \"title\": {\"standoff\": 15}, \"zerolinecolor\": \"#EBF0F8\", \"zerolinewidth\": 2}, \"yaxis\": {\"automargin\": true, \"gridcolor\": \"#EBF0F8\", \"linecolor\": \"#EBF0F8\", \"ticks\": \"\", \"title\": {\"standoff\": 15}, \"zerolinecolor\": \"#EBF0F8\", \"zerolinewidth\": 2}}}, \"title\": {\"text\": \"Fahrzeughochlauf<br>alternativer Antriebstechnologien bis 2030\"}, \"width\": 1000.0629921378601, \"xaxis\": {\"tickfont\": {\"size\": 12}, \"title\": {\"font\": {\"size\": 16}}}, \"yaxis\": {\"showspikes\": true, \"tickfont\": {\"size\": 12}, \"title\": {\"text\": \"Mio. Stk.\"}}},\n",
       "                        {\"responsive\": true}\n",
       "                    ).then(function(){\n",
       "                            \n",
       "var gd = document.getElementById('33699ed5-b90a-4b46-87e2-8011587f0281');\n",
       "var x = new MutationObserver(function (mutations, observer) {{\n",
       "        var display = window.getComputedStyle(gd).display;\n",
       "        if (!display || display === 'none') {{\n",
       "            console.log([gd, 'removed!']);\n",
       "            Plotly.purge(gd);\n",
       "            observer.disconnect();\n",
       "        }}\n",
       "}});\n",
       "\n",
       "// Listen for the removal of the full notebook cells\n",
       "var notebookContainer = gd.closest('#notebook-container');\n",
       "if (notebookContainer) {{\n",
       "    x.observe(notebookContainer, {childList: true});\n",
       "}}\n",
       "\n",
       "// Listen for the clearing of the current output cell\n",
       "var outputEl = gd.closest('.output');\n",
       "if (outputEl) {{\n",
       "    x.observe(outputEl, {childList: true});\n",
       "}}\n",
       "\n",
       "                        })\n",
       "                };\n",
       "                });\n",
       "            </script>\n",
       "        </div>"
      ]
     },
     "metadata": {},
     "output_type": "display_data"
    }
   ],
   "source": [
    "# 2030 data\n",
    "df_RampUp_2030 = df_RampUp.loc[:,:,'2030-01-01']\n",
    "\n",
    "# define xlabels\n",
    "xlabels = [list(df_RampUp_2030.index.get_level_values(0)),\n",
    "           list(df_RampUp_2030.index.get_level_values(1)),\n",
    "           df_RampUp_2030.index]\n",
    "\n",
    "fig = go.Figure()\n",
    "\n",
    "# create traces\n",
    "for idx, tech in enumerate(df_RampUp_2030.columns):\n",
    "    fig.add_trace(\n",
    "        go.Bar(\n",
    "            y=df_RampUp_2030[tech],\n",
    "            x=xlabels,\n",
    "            name=tech,\n",
    "            showlegend=True,\n",
    "            marker_color=RLI_CMAP_PRES[idx],\n",
    "            width=0.5,\n",
    "        )\n",
    "    )\n",
    "\n",
    "# specify layout\n",
    "fig.update_layout(\n",
    "    autosize=False,\n",
    "    width=1.5*width,\n",
    "    yaxis=dict(\n",
    "        titlefont_size=16,\n",
    "        tickfont_size=12,\n",
    "        title=\"Mio. Stk.\",\n",
    "        showspikes=True),\n",
    "    xaxis=dict(\n",
    "        titlefont_size=16,\n",
    "        tickfont_size=12),\n",
    "    legend=dict(\n",
    "        orientation=\"h\",\n",
    "        yanchor=\"bottom\",\n",
    "        y=1.02,\n",
    "        xanchor=\"right\",\n",
    "        x=1\n",
    "    ),\n",
    "    title_text='Fahrzeughochlauf<br>alternativer Antriebstechnologien bis 2030',\n",
    "    template='plotly_white',\n",
    "    barmode='stack',\n",
    ")\n",
    "\n",
    "fig.write_image(\"images/RampUp-2030.svg\")\n",
    "fig.write_html(\"images/RampUp-2030.html\")\n",
    "\n",
    "fig.show()"
   ]
  },
  {
   "cell_type": "code",
   "execution_count": 27,
   "metadata": {},
   "outputs": [
    {
     "data": {
      "application/vnd.plotly.v1+json": {
       "config": {
        "plotlyServerURL": "https://plot.ly"
       },
       "data": [
        {
         "marker": {
          "color": "rgba(193, 211, 234, 1.0)"
         },
         "name": "BEV",
         "showlegend": true,
         "type": "bar",
         "width": 0.5,
         "x": [
          [
           "dena",
           "dena",
           "dena",
           "BCG",
           "BCG",
           "BCG",
           "RENEWBILITY III",
           "RENEWBILITY III",
           "RENEWBILITY III",
           "RENEWBILITY III",
           "RENEWBILITY III",
           "RENEWBILITY III",
           "eMobil 2050",
           "eMobil 2050"
          ],
          [
           "Referenz",
           "Technologiemix",
           "Elektrifizierung",
           "Referenz",
           "80%-Pfad",
           "95%-Pfad",
           "Basis",
           "Fokus Kraftstoffe",
           "Pkw-Maut",
           "ohne O-LKW",
           "Effizienz Plus",
           "Effizienz",
           "Regional eMobil",
           "Grenzenlos eMobil"
          ],
          [
           [
            "dena",
            "Referenz"
           ],
           [
            "dena",
            "Technologiemix"
           ],
           [
            "dena",
            "Elektrifizierung"
           ],
           [
            "BCG",
            "Referenz"
           ],
           [
            "BCG",
            "80%-Pfad"
           ],
           [
            "BCG",
            "95%-Pfad"
           ],
           [
            "RENEWBILITY III",
            "Basis"
           ],
           [
            "RENEWBILITY III",
            "Fokus Kraftstoffe"
           ],
           [
            "RENEWBILITY III",
            "Pkw-Maut"
           ],
           [
            "RENEWBILITY III",
            "ohne O-LKW"
           ],
           [
            "RENEWBILITY III",
            "Effizienz Plus"
           ],
           [
            "RENEWBILITY III",
            "Effizienz"
           ],
           [
            "eMobil 2050",
            "Regional eMobil"
           ],
           [
            "eMobil 2050",
            "Grenzenlos eMobil"
           ]
          ]
         ],
         "y": [
          5.3,
          12.1,
          30.2,
          9,
          21,
          28,
          3.203,
          4.305,
          15.064,
          15.452,
          15.452,
          17.794,
          15,
          29
         ]
        },
        {
         "marker": {
          "color": "rgba(157, 188, 225, 1.0)"
         },
         "name": "PHEV",
         "showlegend": true,
         "type": "bar",
         "width": 0.5,
         "x": [
          [
           "dena",
           "dena",
           "dena",
           "BCG",
           "BCG",
           "BCG",
           "RENEWBILITY III",
           "RENEWBILITY III",
           "RENEWBILITY III",
           "RENEWBILITY III",
           "RENEWBILITY III",
           "RENEWBILITY III",
           "eMobil 2050",
           "eMobil 2050"
          ],
          [
           "Referenz",
           "Technologiemix",
           "Elektrifizierung",
           "Referenz",
           "80%-Pfad",
           "95%-Pfad",
           "Basis",
           "Fokus Kraftstoffe",
           "Pkw-Maut",
           "ohne O-LKW",
           "Effizienz Plus",
           "Effizienz",
           "Regional eMobil",
           "Grenzenlos eMobil"
          ],
          [
           [
            "dena",
            "Referenz"
           ],
           [
            "dena",
            "Technologiemix"
           ],
           [
            "dena",
            "Elektrifizierung"
           ],
           [
            "BCG",
            "Referenz"
           ],
           [
            "BCG",
            "80%-Pfad"
           ],
           [
            "BCG",
            "95%-Pfad"
           ],
           [
            "RENEWBILITY III",
            "Basis"
           ],
           [
            "RENEWBILITY III",
            "Fokus Kraftstoffe"
           ],
           [
            "RENEWBILITY III",
            "Pkw-Maut"
           ],
           [
            "RENEWBILITY III",
            "ohne O-LKW"
           ],
           [
            "RENEWBILITY III",
            "Effizienz Plus"
           ],
           [
            "RENEWBILITY III",
            "Effizienz"
           ],
           [
            "eMobil 2050",
            "Regional eMobil"
           ],
           [
            "eMobil 2050",
            "Grenzenlos eMobil"
           ]
          ]
         ],
         "y": [
          6,
          16,
          5.6,
          16,
          10,
          7,
          6.478,
          7.857,
          13.273,
          13.618,
          13.618,
          13.928,
          1,
          3
         ]
        },
        {
         "marker": {
          "color": "rgba(108, 162, 215, 1.0)"
         },
         "name": "FCV",
         "showlegend": true,
         "type": "bar",
         "width": 0.5,
         "x": [
          [
           "dena",
           "dena",
           "dena",
           "BCG",
           "BCG",
           "BCG",
           "RENEWBILITY III",
           "RENEWBILITY III",
           "RENEWBILITY III",
           "RENEWBILITY III",
           "RENEWBILITY III",
           "RENEWBILITY III",
           "eMobil 2050",
           "eMobil 2050"
          ],
          [
           "Referenz",
           "Technologiemix",
           "Elektrifizierung",
           "Referenz",
           "80%-Pfad",
           "95%-Pfad",
           "Basis",
           "Fokus Kraftstoffe",
           "Pkw-Maut",
           "ohne O-LKW",
           "Effizienz Plus",
           "Effizienz",
           "Regional eMobil",
           "Grenzenlos eMobil"
          ],
          [
           [
            "dena",
            "Referenz"
           ],
           [
            "dena",
            "Technologiemix"
           ],
           [
            "dena",
            "Elektrifizierung"
           ],
           [
            "BCG",
            "Referenz"
           ],
           [
            "BCG",
            "80%-Pfad"
           ],
           [
            "BCG",
            "95%-Pfad"
           ],
           [
            "RENEWBILITY III",
            "Basis"
           ],
           [
            "RENEWBILITY III",
            "Fokus Kraftstoffe"
           ],
           [
            "RENEWBILITY III",
            "Pkw-Maut"
           ],
           [
            "RENEWBILITY III",
            "ohne O-LKW"
           ],
           [
            "RENEWBILITY III",
            "Effizienz Plus"
           ],
           [
            "RENEWBILITY III",
            "Effizienz"
           ],
           [
            "eMobil 2050",
            "Regional eMobil"
           ],
           [
            "eMobil 2050",
            "Grenzenlos eMobil"
           ]
          ]
         ],
         "y": [
          2.1,
          12.1,
          6.6,
          0,
          1,
          2,
          0.282,
          0.334,
          0.544,
          0.558,
          0.558,
          0.66,
          null,
          null
         ]
        },
        {
         "marker": {
          "color": "rgba(083, 142, 196, 1.0)"
         },
         "name": "REEV",
         "showlegend": true,
         "type": "bar",
         "width": 0.5,
         "x": [
          [
           "dena",
           "dena",
           "dena",
           "BCG",
           "BCG",
           "BCG",
           "RENEWBILITY III",
           "RENEWBILITY III",
           "RENEWBILITY III",
           "RENEWBILITY III",
           "RENEWBILITY III",
           "RENEWBILITY III",
           "eMobil 2050",
           "eMobil 2050"
          ],
          [
           "Referenz",
           "Technologiemix",
           "Elektrifizierung",
           "Referenz",
           "80%-Pfad",
           "95%-Pfad",
           "Basis",
           "Fokus Kraftstoffe",
           "Pkw-Maut",
           "ohne O-LKW",
           "Effizienz Plus",
           "Effizienz",
           "Regional eMobil",
           "Grenzenlos eMobil"
          ],
          [
           [
            "dena",
            "Referenz"
           ],
           [
            "dena",
            "Technologiemix"
           ],
           [
            "dena",
            "Elektrifizierung"
           ],
           [
            "BCG",
            "Referenz"
           ],
           [
            "BCG",
            "80%-Pfad"
           ],
           [
            "BCG",
            "95%-Pfad"
           ],
           [
            "RENEWBILITY III",
            "Basis"
           ],
           [
            "RENEWBILITY III",
            "Fokus Kraftstoffe"
           ],
           [
            "RENEWBILITY III",
            "Pkw-Maut"
           ],
           [
            "RENEWBILITY III",
            "ohne O-LKW"
           ],
           [
            "RENEWBILITY III",
            "Effizienz Plus"
           ],
           [
            "RENEWBILITY III",
            "Effizienz"
           ],
           [
            "eMobil 2050",
            "Regional eMobil"
           ],
           [
            "eMobil 2050",
            "Grenzenlos eMobil"
           ]
          ]
         ],
         "y": [
          null,
          null,
          null,
          null,
          null,
          null,
          null,
          null,
          null,
          null,
          null,
          null,
          2,
          7
         ]
        }
       ],
       "layout": {
        "autosize": false,
        "barmode": "stack",
        "legend": {
         "orientation": "h",
         "x": 1,
         "xanchor": "right",
         "y": 1.02,
         "yanchor": "bottom"
        },
        "template": {
         "data": {
          "bar": [
           {
            "error_x": {
             "color": "#2a3f5f"
            },
            "error_y": {
             "color": "#2a3f5f"
            },
            "marker": {
             "line": {
              "color": "white",
              "width": 0.5
             }
            },
            "type": "bar"
           }
          ],
          "barpolar": [
           {
            "marker": {
             "line": {
              "color": "white",
              "width": 0.5
             }
            },
            "type": "barpolar"
           }
          ],
          "carpet": [
           {
            "aaxis": {
             "endlinecolor": "#2a3f5f",
             "gridcolor": "#C8D4E3",
             "linecolor": "#C8D4E3",
             "minorgridcolor": "#C8D4E3",
             "startlinecolor": "#2a3f5f"
            },
            "baxis": {
             "endlinecolor": "#2a3f5f",
             "gridcolor": "#C8D4E3",
             "linecolor": "#C8D4E3",
             "minorgridcolor": "#C8D4E3",
             "startlinecolor": "#2a3f5f"
            },
            "type": "carpet"
           }
          ],
          "choropleth": [
           {
            "colorbar": {
             "outlinewidth": 0,
             "ticks": ""
            },
            "type": "choropleth"
           }
          ],
          "contour": [
           {
            "colorbar": {
             "outlinewidth": 0,
             "ticks": ""
            },
            "colorscale": [
             [
              0,
              "#0d0887"
             ],
             [
              0.1111111111111111,
              "#46039f"
             ],
             [
              0.2222222222222222,
              "#7201a8"
             ],
             [
              0.3333333333333333,
              "#9c179e"
             ],
             [
              0.4444444444444444,
              "#bd3786"
             ],
             [
              0.5555555555555556,
              "#d8576b"
             ],
             [
              0.6666666666666666,
              "#ed7953"
             ],
             [
              0.7777777777777778,
              "#fb9f3a"
             ],
             [
              0.8888888888888888,
              "#fdca26"
             ],
             [
              1,
              "#f0f921"
             ]
            ],
            "type": "contour"
           }
          ],
          "contourcarpet": [
           {
            "colorbar": {
             "outlinewidth": 0,
             "ticks": ""
            },
            "type": "contourcarpet"
           }
          ],
          "heatmap": [
           {
            "colorbar": {
             "outlinewidth": 0,
             "ticks": ""
            },
            "colorscale": [
             [
              0,
              "#0d0887"
             ],
             [
              0.1111111111111111,
              "#46039f"
             ],
             [
              0.2222222222222222,
              "#7201a8"
             ],
             [
              0.3333333333333333,
              "#9c179e"
             ],
             [
              0.4444444444444444,
              "#bd3786"
             ],
             [
              0.5555555555555556,
              "#d8576b"
             ],
             [
              0.6666666666666666,
              "#ed7953"
             ],
             [
              0.7777777777777778,
              "#fb9f3a"
             ],
             [
              0.8888888888888888,
              "#fdca26"
             ],
             [
              1,
              "#f0f921"
             ]
            ],
            "type": "heatmap"
           }
          ],
          "heatmapgl": [
           {
            "colorbar": {
             "outlinewidth": 0,
             "ticks": ""
            },
            "colorscale": [
             [
              0,
              "#0d0887"
             ],
             [
              0.1111111111111111,
              "#46039f"
             ],
             [
              0.2222222222222222,
              "#7201a8"
             ],
             [
              0.3333333333333333,
              "#9c179e"
             ],
             [
              0.4444444444444444,
              "#bd3786"
             ],
             [
              0.5555555555555556,
              "#d8576b"
             ],
             [
              0.6666666666666666,
              "#ed7953"
             ],
             [
              0.7777777777777778,
              "#fb9f3a"
             ],
             [
              0.8888888888888888,
              "#fdca26"
             ],
             [
              1,
              "#f0f921"
             ]
            ],
            "type": "heatmapgl"
           }
          ],
          "histogram": [
           {
            "marker": {
             "colorbar": {
              "outlinewidth": 0,
              "ticks": ""
             }
            },
            "type": "histogram"
           }
          ],
          "histogram2d": [
           {
            "colorbar": {
             "outlinewidth": 0,
             "ticks": ""
            },
            "colorscale": [
             [
              0,
              "#0d0887"
             ],
             [
              0.1111111111111111,
              "#46039f"
             ],
             [
              0.2222222222222222,
              "#7201a8"
             ],
             [
              0.3333333333333333,
              "#9c179e"
             ],
             [
              0.4444444444444444,
              "#bd3786"
             ],
             [
              0.5555555555555556,
              "#d8576b"
             ],
             [
              0.6666666666666666,
              "#ed7953"
             ],
             [
              0.7777777777777778,
              "#fb9f3a"
             ],
             [
              0.8888888888888888,
              "#fdca26"
             ],
             [
              1,
              "#f0f921"
             ]
            ],
            "type": "histogram2d"
           }
          ],
          "histogram2dcontour": [
           {
            "colorbar": {
             "outlinewidth": 0,
             "ticks": ""
            },
            "colorscale": [
             [
              0,
              "#0d0887"
             ],
             [
              0.1111111111111111,
              "#46039f"
             ],
             [
              0.2222222222222222,
              "#7201a8"
             ],
             [
              0.3333333333333333,
              "#9c179e"
             ],
             [
              0.4444444444444444,
              "#bd3786"
             ],
             [
              0.5555555555555556,
              "#d8576b"
             ],
             [
              0.6666666666666666,
              "#ed7953"
             ],
             [
              0.7777777777777778,
              "#fb9f3a"
             ],
             [
              0.8888888888888888,
              "#fdca26"
             ],
             [
              1,
              "#f0f921"
             ]
            ],
            "type": "histogram2dcontour"
           }
          ],
          "mesh3d": [
           {
            "colorbar": {
             "outlinewidth": 0,
             "ticks": ""
            },
            "type": "mesh3d"
           }
          ],
          "parcoords": [
           {
            "line": {
             "colorbar": {
              "outlinewidth": 0,
              "ticks": ""
             }
            },
            "type": "parcoords"
           }
          ],
          "pie": [
           {
            "automargin": true,
            "type": "pie"
           }
          ],
          "scatter": [
           {
            "marker": {
             "colorbar": {
              "outlinewidth": 0,
              "ticks": ""
             }
            },
            "type": "scatter"
           }
          ],
          "scatter3d": [
           {
            "line": {
             "colorbar": {
              "outlinewidth": 0,
              "ticks": ""
             }
            },
            "marker": {
             "colorbar": {
              "outlinewidth": 0,
              "ticks": ""
             }
            },
            "type": "scatter3d"
           }
          ],
          "scattercarpet": [
           {
            "marker": {
             "colorbar": {
              "outlinewidth": 0,
              "ticks": ""
             }
            },
            "type": "scattercarpet"
           }
          ],
          "scattergeo": [
           {
            "marker": {
             "colorbar": {
              "outlinewidth": 0,
              "ticks": ""
             }
            },
            "type": "scattergeo"
           }
          ],
          "scattergl": [
           {
            "marker": {
             "colorbar": {
              "outlinewidth": 0,
              "ticks": ""
             }
            },
            "type": "scattergl"
           }
          ],
          "scattermapbox": [
           {
            "marker": {
             "colorbar": {
              "outlinewidth": 0,
              "ticks": ""
             }
            },
            "type": "scattermapbox"
           }
          ],
          "scatterpolar": [
           {
            "marker": {
             "colorbar": {
              "outlinewidth": 0,
              "ticks": ""
             }
            },
            "type": "scatterpolar"
           }
          ],
          "scatterpolargl": [
           {
            "marker": {
             "colorbar": {
              "outlinewidth": 0,
              "ticks": ""
             }
            },
            "type": "scatterpolargl"
           }
          ],
          "scatterternary": [
           {
            "marker": {
             "colorbar": {
              "outlinewidth": 0,
              "ticks": ""
             }
            },
            "type": "scatterternary"
           }
          ],
          "surface": [
           {
            "colorbar": {
             "outlinewidth": 0,
             "ticks": ""
            },
            "colorscale": [
             [
              0,
              "#0d0887"
             ],
             [
              0.1111111111111111,
              "#46039f"
             ],
             [
              0.2222222222222222,
              "#7201a8"
             ],
             [
              0.3333333333333333,
              "#9c179e"
             ],
             [
              0.4444444444444444,
              "#bd3786"
             ],
             [
              0.5555555555555556,
              "#d8576b"
             ],
             [
              0.6666666666666666,
              "#ed7953"
             ],
             [
              0.7777777777777778,
              "#fb9f3a"
             ],
             [
              0.8888888888888888,
              "#fdca26"
             ],
             [
              1,
              "#f0f921"
             ]
            ],
            "type": "surface"
           }
          ],
          "table": [
           {
            "cells": {
             "fill": {
              "color": "#EBF0F8"
             },
             "line": {
              "color": "white"
             }
            },
            "header": {
             "fill": {
              "color": "#C8D4E3"
             },
             "line": {
              "color": "white"
             }
            },
            "type": "table"
           }
          ]
         },
         "layout": {
          "annotationdefaults": {
           "arrowcolor": "#2a3f5f",
           "arrowhead": 0,
           "arrowwidth": 1
          },
          "coloraxis": {
           "colorbar": {
            "outlinewidth": 0,
            "ticks": ""
           }
          },
          "colorscale": {
           "diverging": [
            [
             0,
             "#8e0152"
            ],
            [
             0.1,
             "#c51b7d"
            ],
            [
             0.2,
             "#de77ae"
            ],
            [
             0.3,
             "#f1b6da"
            ],
            [
             0.4,
             "#fde0ef"
            ],
            [
             0.5,
             "#f7f7f7"
            ],
            [
             0.6,
             "#e6f5d0"
            ],
            [
             0.7,
             "#b8e186"
            ],
            [
             0.8,
             "#7fbc41"
            ],
            [
             0.9,
             "#4d9221"
            ],
            [
             1,
             "#276419"
            ]
           ],
           "sequential": [
            [
             0,
             "#0d0887"
            ],
            [
             0.1111111111111111,
             "#46039f"
            ],
            [
             0.2222222222222222,
             "#7201a8"
            ],
            [
             0.3333333333333333,
             "#9c179e"
            ],
            [
             0.4444444444444444,
             "#bd3786"
            ],
            [
             0.5555555555555556,
             "#d8576b"
            ],
            [
             0.6666666666666666,
             "#ed7953"
            ],
            [
             0.7777777777777778,
             "#fb9f3a"
            ],
            [
             0.8888888888888888,
             "#fdca26"
            ],
            [
             1,
             "#f0f921"
            ]
           ],
           "sequentialminus": [
            [
             0,
             "#0d0887"
            ],
            [
             0.1111111111111111,
             "#46039f"
            ],
            [
             0.2222222222222222,
             "#7201a8"
            ],
            [
             0.3333333333333333,
             "#9c179e"
            ],
            [
             0.4444444444444444,
             "#bd3786"
            ],
            [
             0.5555555555555556,
             "#d8576b"
            ],
            [
             0.6666666666666666,
             "#ed7953"
            ],
            [
             0.7777777777777778,
             "#fb9f3a"
            ],
            [
             0.8888888888888888,
             "#fdca26"
            ],
            [
             1,
             "#f0f921"
            ]
           ]
          },
          "colorway": [
           "#636efa",
           "#EF553B",
           "#00cc96",
           "#ab63fa",
           "#FFA15A",
           "#19d3f3",
           "#FF6692",
           "#B6E880",
           "#FF97FF",
           "#FECB52"
          ],
          "font": {
           "color": "#2a3f5f"
          },
          "geo": {
           "bgcolor": "white",
           "lakecolor": "white",
           "landcolor": "white",
           "showlakes": true,
           "showland": true,
           "subunitcolor": "#C8D4E3"
          },
          "hoverlabel": {
           "align": "left"
          },
          "hovermode": "closest",
          "mapbox": {
           "style": "light"
          },
          "paper_bgcolor": "white",
          "plot_bgcolor": "white",
          "polar": {
           "angularaxis": {
            "gridcolor": "#EBF0F8",
            "linecolor": "#EBF0F8",
            "ticks": ""
           },
           "bgcolor": "white",
           "radialaxis": {
            "gridcolor": "#EBF0F8",
            "linecolor": "#EBF0F8",
            "ticks": ""
           }
          },
          "scene": {
           "xaxis": {
            "backgroundcolor": "white",
            "gridcolor": "#DFE8F3",
            "gridwidth": 2,
            "linecolor": "#EBF0F8",
            "showbackground": true,
            "ticks": "",
            "zerolinecolor": "#EBF0F8"
           },
           "yaxis": {
            "backgroundcolor": "white",
            "gridcolor": "#DFE8F3",
            "gridwidth": 2,
            "linecolor": "#EBF0F8",
            "showbackground": true,
            "ticks": "",
            "zerolinecolor": "#EBF0F8"
           },
           "zaxis": {
            "backgroundcolor": "white",
            "gridcolor": "#DFE8F3",
            "gridwidth": 2,
            "linecolor": "#EBF0F8",
            "showbackground": true,
            "ticks": "",
            "zerolinecolor": "#EBF0F8"
           }
          },
          "shapedefaults": {
           "line": {
            "color": "#2a3f5f"
           }
          },
          "ternary": {
           "aaxis": {
            "gridcolor": "#DFE8F3",
            "linecolor": "#A2B1C6",
            "ticks": ""
           },
           "baxis": {
            "gridcolor": "#DFE8F3",
            "linecolor": "#A2B1C6",
            "ticks": ""
           },
           "bgcolor": "white",
           "caxis": {
            "gridcolor": "#DFE8F3",
            "linecolor": "#A2B1C6",
            "ticks": ""
           }
          },
          "title": {
           "x": 0.05
          },
          "xaxis": {
           "automargin": true,
           "gridcolor": "#EBF0F8",
           "linecolor": "#EBF0F8",
           "ticks": "",
           "title": {
            "standoff": 15
           },
           "zerolinecolor": "#EBF0F8",
           "zerolinewidth": 2
          },
          "yaxis": {
           "automargin": true,
           "gridcolor": "#EBF0F8",
           "linecolor": "#EBF0F8",
           "ticks": "",
           "title": {
            "standoff": 15
           },
           "zerolinecolor": "#EBF0F8",
           "zerolinewidth": 2
          }
         }
        },
        "title": {
         "text": "Fahrzeughochlauf<br>alternativer Antriebstechnologien bis 2050"
        },
        "width": 1000.0629921378601,
        "yaxis": {
         "showspikes": true,
         "tickfont": {
          "size": 12
         },
         "title": {
          "text": "Mio. Stk."
         }
        }
       }
      },
      "text/html": [
       "<div>\n",
       "        \n",
       "        \n",
       "            <div id=\"ccfff368-1c4c-4ebf-97f1-bb282c4fab57\" class=\"plotly-graph-div\" style=\"height:525px; width:1000.0629921378601px;\"></div>\n",
       "            <script type=\"text/javascript\">\n",
       "                require([\"plotly\"], function(Plotly) {\n",
       "                    window.PLOTLYENV=window.PLOTLYENV || {};\n",
       "                    \n",
       "                if (document.getElementById(\"ccfff368-1c4c-4ebf-97f1-bb282c4fab57\")) {\n",
       "                    Plotly.newPlot(\n",
       "                        'ccfff368-1c4c-4ebf-97f1-bb282c4fab57',\n",
       "                        [{\"marker\": {\"color\": \"rgba(193, 211, 234, 1.0)\"}, \"name\": \"BEV\", \"showlegend\": true, \"type\": \"bar\", \"width\": 0.5, \"x\": [[\"dena\", \"dena\", \"dena\", \"BCG\", \"BCG\", \"BCG\", \"RENEWBILITY III\", \"RENEWBILITY III\", \"RENEWBILITY III\", \"RENEWBILITY III\", \"RENEWBILITY III\", \"RENEWBILITY III\", \"eMobil 2050\", \"eMobil 2050\"], [\"Referenz\", \"Technologiemix\", \"Elektrifizierung\", \"Referenz\", \"80%-Pfad\", \"95%-Pfad\", \"Basis\", \"Fokus Kraftstoffe\", \"Pkw-Maut\", \"ohne O-LKW\", \"Effizienz Plus\", \"Effizienz\", \"Regional eMobil\", \"Grenzenlos eMobil\"], [[\"dena\", \"Referenz\"], [\"dena\", \"Technologiemix\"], [\"dena\", \"Elektrifizierung\"], [\"BCG\", \"Referenz\"], [\"BCG\", \"80%-Pfad\"], [\"BCG\", \"95%-Pfad\"], [\"RENEWBILITY III\", \"Basis\"], [\"RENEWBILITY III\", \"Fokus Kraftstoffe\"], [\"RENEWBILITY III\", \"Pkw-Maut\"], [\"RENEWBILITY III\", \"ohne O-LKW\"], [\"RENEWBILITY III\", \"Effizienz Plus\"], [\"RENEWBILITY III\", \"Effizienz\"], [\"eMobil 2050\", \"Regional eMobil\"], [\"eMobil 2050\", \"Grenzenlos eMobil\"]]], \"y\": [5.3, 12.1, 30.2, 9.0, 21.0, 28.0, 3.203, 4.305, 15.064, 15.452, 15.452, 17.794, 15.0, 29.0]}, {\"marker\": {\"color\": \"rgba(157, 188, 225, 1.0)\"}, \"name\": \"PHEV\", \"showlegend\": true, \"type\": \"bar\", \"width\": 0.5, \"x\": [[\"dena\", \"dena\", \"dena\", \"BCG\", \"BCG\", \"BCG\", \"RENEWBILITY III\", \"RENEWBILITY III\", \"RENEWBILITY III\", \"RENEWBILITY III\", \"RENEWBILITY III\", \"RENEWBILITY III\", \"eMobil 2050\", \"eMobil 2050\"], [\"Referenz\", \"Technologiemix\", \"Elektrifizierung\", \"Referenz\", \"80%-Pfad\", \"95%-Pfad\", \"Basis\", \"Fokus Kraftstoffe\", \"Pkw-Maut\", \"ohne O-LKW\", \"Effizienz Plus\", \"Effizienz\", \"Regional eMobil\", \"Grenzenlos eMobil\"], [[\"dena\", \"Referenz\"], [\"dena\", \"Technologiemix\"], [\"dena\", \"Elektrifizierung\"], [\"BCG\", \"Referenz\"], [\"BCG\", \"80%-Pfad\"], [\"BCG\", \"95%-Pfad\"], [\"RENEWBILITY III\", \"Basis\"], [\"RENEWBILITY III\", \"Fokus Kraftstoffe\"], [\"RENEWBILITY III\", \"Pkw-Maut\"], [\"RENEWBILITY III\", \"ohne O-LKW\"], [\"RENEWBILITY III\", \"Effizienz Plus\"], [\"RENEWBILITY III\", \"Effizienz\"], [\"eMobil 2050\", \"Regional eMobil\"], [\"eMobil 2050\", \"Grenzenlos eMobil\"]]], \"y\": [6.0, 16.0, 5.6, 16.0, 10.0, 7.0, 6.478, 7.857, 13.273, 13.618, 13.618, 13.928, 1.0, 3.0]}, {\"marker\": {\"color\": \"rgba(108, 162, 215, 1.0)\"}, \"name\": \"FCV\", \"showlegend\": true, \"type\": \"bar\", \"width\": 0.5, \"x\": [[\"dena\", \"dena\", \"dena\", \"BCG\", \"BCG\", \"BCG\", \"RENEWBILITY III\", \"RENEWBILITY III\", \"RENEWBILITY III\", \"RENEWBILITY III\", \"RENEWBILITY III\", \"RENEWBILITY III\", \"eMobil 2050\", \"eMobil 2050\"], [\"Referenz\", \"Technologiemix\", \"Elektrifizierung\", \"Referenz\", \"80%-Pfad\", \"95%-Pfad\", \"Basis\", \"Fokus Kraftstoffe\", \"Pkw-Maut\", \"ohne O-LKW\", \"Effizienz Plus\", \"Effizienz\", \"Regional eMobil\", \"Grenzenlos eMobil\"], [[\"dena\", \"Referenz\"], [\"dena\", \"Technologiemix\"], [\"dena\", \"Elektrifizierung\"], [\"BCG\", \"Referenz\"], [\"BCG\", \"80%-Pfad\"], [\"BCG\", \"95%-Pfad\"], [\"RENEWBILITY III\", \"Basis\"], [\"RENEWBILITY III\", \"Fokus Kraftstoffe\"], [\"RENEWBILITY III\", \"Pkw-Maut\"], [\"RENEWBILITY III\", \"ohne O-LKW\"], [\"RENEWBILITY III\", \"Effizienz Plus\"], [\"RENEWBILITY III\", \"Effizienz\"], [\"eMobil 2050\", \"Regional eMobil\"], [\"eMobil 2050\", \"Grenzenlos eMobil\"]]], \"y\": [2.1, 12.1, 6.6, 0.0, 1.0, 2.0, 0.282, 0.334, 0.544, 0.558, 0.558, 0.66, null, null]}, {\"marker\": {\"color\": \"rgba(083, 142, 196, 1.0)\"}, \"name\": \"REEV\", \"showlegend\": true, \"type\": \"bar\", \"width\": 0.5, \"x\": [[\"dena\", \"dena\", \"dena\", \"BCG\", \"BCG\", \"BCG\", \"RENEWBILITY III\", \"RENEWBILITY III\", \"RENEWBILITY III\", \"RENEWBILITY III\", \"RENEWBILITY III\", \"RENEWBILITY III\", \"eMobil 2050\", \"eMobil 2050\"], [\"Referenz\", \"Technologiemix\", \"Elektrifizierung\", \"Referenz\", \"80%-Pfad\", \"95%-Pfad\", \"Basis\", \"Fokus Kraftstoffe\", \"Pkw-Maut\", \"ohne O-LKW\", \"Effizienz Plus\", \"Effizienz\", \"Regional eMobil\", \"Grenzenlos eMobil\"], [[\"dena\", \"Referenz\"], [\"dena\", \"Technologiemix\"], [\"dena\", \"Elektrifizierung\"], [\"BCG\", \"Referenz\"], [\"BCG\", \"80%-Pfad\"], [\"BCG\", \"95%-Pfad\"], [\"RENEWBILITY III\", \"Basis\"], [\"RENEWBILITY III\", \"Fokus Kraftstoffe\"], [\"RENEWBILITY III\", \"Pkw-Maut\"], [\"RENEWBILITY III\", \"ohne O-LKW\"], [\"RENEWBILITY III\", \"Effizienz Plus\"], [\"RENEWBILITY III\", \"Effizienz\"], [\"eMobil 2050\", \"Regional eMobil\"], [\"eMobil 2050\", \"Grenzenlos eMobil\"]]], \"y\": [null, null, null, null, null, null, null, null, null, null, null, null, 2.0, 7.0]}],\n",
       "                        {\"autosize\": false, \"barmode\": \"stack\", \"legend\": {\"orientation\": \"h\", \"x\": 1, \"xanchor\": \"right\", \"y\": 1.02, \"yanchor\": \"bottom\"}, \"template\": {\"data\": {\"bar\": [{\"error_x\": {\"color\": \"#2a3f5f\"}, \"error_y\": {\"color\": \"#2a3f5f\"}, \"marker\": {\"line\": {\"color\": \"white\", \"width\": 0.5}}, \"type\": \"bar\"}], \"barpolar\": [{\"marker\": {\"line\": {\"color\": \"white\", \"width\": 0.5}}, \"type\": \"barpolar\"}], \"carpet\": [{\"aaxis\": {\"endlinecolor\": \"#2a3f5f\", \"gridcolor\": \"#C8D4E3\", \"linecolor\": \"#C8D4E3\", \"minorgridcolor\": \"#C8D4E3\", \"startlinecolor\": \"#2a3f5f\"}, \"baxis\": {\"endlinecolor\": \"#2a3f5f\", \"gridcolor\": \"#C8D4E3\", \"linecolor\": \"#C8D4E3\", \"minorgridcolor\": \"#C8D4E3\", \"startlinecolor\": \"#2a3f5f\"}, \"type\": \"carpet\"}], \"choropleth\": [{\"colorbar\": {\"outlinewidth\": 0, \"ticks\": \"\"}, \"type\": \"choropleth\"}], \"contour\": [{\"colorbar\": {\"outlinewidth\": 0, \"ticks\": \"\"}, \"colorscale\": [[0.0, \"#0d0887\"], [0.1111111111111111, \"#46039f\"], [0.2222222222222222, \"#7201a8\"], [0.3333333333333333, \"#9c179e\"], [0.4444444444444444, \"#bd3786\"], [0.5555555555555556, \"#d8576b\"], [0.6666666666666666, \"#ed7953\"], [0.7777777777777778, \"#fb9f3a\"], [0.8888888888888888, \"#fdca26\"], [1.0, \"#f0f921\"]], \"type\": \"contour\"}], \"contourcarpet\": [{\"colorbar\": {\"outlinewidth\": 0, \"ticks\": \"\"}, \"type\": \"contourcarpet\"}], \"heatmap\": [{\"colorbar\": {\"outlinewidth\": 0, \"ticks\": \"\"}, \"colorscale\": [[0.0, \"#0d0887\"], [0.1111111111111111, \"#46039f\"], [0.2222222222222222, \"#7201a8\"], [0.3333333333333333, \"#9c179e\"], [0.4444444444444444, \"#bd3786\"], [0.5555555555555556, \"#d8576b\"], [0.6666666666666666, \"#ed7953\"], [0.7777777777777778, \"#fb9f3a\"], [0.8888888888888888, \"#fdca26\"], [1.0, \"#f0f921\"]], \"type\": \"heatmap\"}], \"heatmapgl\": [{\"colorbar\": {\"outlinewidth\": 0, \"ticks\": \"\"}, \"colorscale\": [[0.0, \"#0d0887\"], [0.1111111111111111, \"#46039f\"], [0.2222222222222222, \"#7201a8\"], [0.3333333333333333, \"#9c179e\"], [0.4444444444444444, \"#bd3786\"], [0.5555555555555556, \"#d8576b\"], [0.6666666666666666, \"#ed7953\"], [0.7777777777777778, \"#fb9f3a\"], [0.8888888888888888, \"#fdca26\"], [1.0, \"#f0f921\"]], \"type\": \"heatmapgl\"}], \"histogram\": [{\"marker\": {\"colorbar\": {\"outlinewidth\": 0, \"ticks\": \"\"}}, \"type\": \"histogram\"}], \"histogram2d\": [{\"colorbar\": {\"outlinewidth\": 0, \"ticks\": \"\"}, \"colorscale\": [[0.0, \"#0d0887\"], [0.1111111111111111, \"#46039f\"], [0.2222222222222222, \"#7201a8\"], [0.3333333333333333, \"#9c179e\"], [0.4444444444444444, \"#bd3786\"], [0.5555555555555556, \"#d8576b\"], [0.6666666666666666, \"#ed7953\"], [0.7777777777777778, \"#fb9f3a\"], [0.8888888888888888, \"#fdca26\"], [1.0, \"#f0f921\"]], \"type\": \"histogram2d\"}], \"histogram2dcontour\": [{\"colorbar\": {\"outlinewidth\": 0, \"ticks\": \"\"}, \"colorscale\": [[0.0, \"#0d0887\"], [0.1111111111111111, \"#46039f\"], [0.2222222222222222, \"#7201a8\"], [0.3333333333333333, \"#9c179e\"], [0.4444444444444444, \"#bd3786\"], [0.5555555555555556, \"#d8576b\"], [0.6666666666666666, \"#ed7953\"], [0.7777777777777778, \"#fb9f3a\"], [0.8888888888888888, \"#fdca26\"], [1.0, \"#f0f921\"]], \"type\": \"histogram2dcontour\"}], \"mesh3d\": [{\"colorbar\": {\"outlinewidth\": 0, \"ticks\": \"\"}, \"type\": \"mesh3d\"}], \"parcoords\": [{\"line\": {\"colorbar\": {\"outlinewidth\": 0, \"ticks\": \"\"}}, \"type\": \"parcoords\"}], \"pie\": [{\"automargin\": true, \"type\": \"pie\"}], \"scatter\": [{\"marker\": {\"colorbar\": {\"outlinewidth\": 0, \"ticks\": \"\"}}, \"type\": \"scatter\"}], \"scatter3d\": [{\"line\": {\"colorbar\": {\"outlinewidth\": 0, \"ticks\": \"\"}}, \"marker\": {\"colorbar\": {\"outlinewidth\": 0, \"ticks\": \"\"}}, \"type\": \"scatter3d\"}], \"scattercarpet\": [{\"marker\": {\"colorbar\": {\"outlinewidth\": 0, \"ticks\": \"\"}}, \"type\": \"scattercarpet\"}], \"scattergeo\": [{\"marker\": {\"colorbar\": {\"outlinewidth\": 0, \"ticks\": \"\"}}, \"type\": \"scattergeo\"}], \"scattergl\": [{\"marker\": {\"colorbar\": {\"outlinewidth\": 0, \"ticks\": \"\"}}, \"type\": \"scattergl\"}], \"scattermapbox\": [{\"marker\": {\"colorbar\": {\"outlinewidth\": 0, \"ticks\": \"\"}}, \"type\": \"scattermapbox\"}], \"scatterpolar\": [{\"marker\": {\"colorbar\": {\"outlinewidth\": 0, \"ticks\": \"\"}}, \"type\": \"scatterpolar\"}], \"scatterpolargl\": [{\"marker\": {\"colorbar\": {\"outlinewidth\": 0, \"ticks\": \"\"}}, \"type\": \"scatterpolargl\"}], \"scatterternary\": [{\"marker\": {\"colorbar\": {\"outlinewidth\": 0, \"ticks\": \"\"}}, \"type\": \"scatterternary\"}], \"surface\": [{\"colorbar\": {\"outlinewidth\": 0, \"ticks\": \"\"}, \"colorscale\": [[0.0, \"#0d0887\"], [0.1111111111111111, \"#46039f\"], [0.2222222222222222, \"#7201a8\"], [0.3333333333333333, \"#9c179e\"], [0.4444444444444444, \"#bd3786\"], [0.5555555555555556, \"#d8576b\"], [0.6666666666666666, \"#ed7953\"], [0.7777777777777778, \"#fb9f3a\"], [0.8888888888888888, \"#fdca26\"], [1.0, \"#f0f921\"]], \"type\": \"surface\"}], \"table\": [{\"cells\": {\"fill\": {\"color\": \"#EBF0F8\"}, \"line\": {\"color\": \"white\"}}, \"header\": {\"fill\": {\"color\": \"#C8D4E3\"}, \"line\": {\"color\": \"white\"}}, \"type\": \"table\"}]}, \"layout\": {\"annotationdefaults\": {\"arrowcolor\": \"#2a3f5f\", \"arrowhead\": 0, \"arrowwidth\": 1}, \"coloraxis\": {\"colorbar\": {\"outlinewidth\": 0, \"ticks\": \"\"}}, \"colorscale\": {\"diverging\": [[0, \"#8e0152\"], [0.1, \"#c51b7d\"], [0.2, \"#de77ae\"], [0.3, \"#f1b6da\"], [0.4, \"#fde0ef\"], [0.5, \"#f7f7f7\"], [0.6, \"#e6f5d0\"], [0.7, \"#b8e186\"], [0.8, \"#7fbc41\"], [0.9, \"#4d9221\"], [1, \"#276419\"]], \"sequential\": [[0.0, \"#0d0887\"], [0.1111111111111111, \"#46039f\"], [0.2222222222222222, \"#7201a8\"], [0.3333333333333333, \"#9c179e\"], [0.4444444444444444, \"#bd3786\"], [0.5555555555555556, \"#d8576b\"], [0.6666666666666666, \"#ed7953\"], [0.7777777777777778, \"#fb9f3a\"], [0.8888888888888888, \"#fdca26\"], [1.0, \"#f0f921\"]], \"sequentialminus\": [[0.0, \"#0d0887\"], [0.1111111111111111, \"#46039f\"], [0.2222222222222222, \"#7201a8\"], [0.3333333333333333, \"#9c179e\"], [0.4444444444444444, \"#bd3786\"], [0.5555555555555556, \"#d8576b\"], [0.6666666666666666, \"#ed7953\"], [0.7777777777777778, \"#fb9f3a\"], [0.8888888888888888, \"#fdca26\"], [1.0, \"#f0f921\"]]}, \"colorway\": [\"#636efa\", \"#EF553B\", \"#00cc96\", \"#ab63fa\", \"#FFA15A\", \"#19d3f3\", \"#FF6692\", \"#B6E880\", \"#FF97FF\", \"#FECB52\"], \"font\": {\"color\": \"#2a3f5f\"}, \"geo\": {\"bgcolor\": \"white\", \"lakecolor\": \"white\", \"landcolor\": \"white\", \"showlakes\": true, \"showland\": true, \"subunitcolor\": \"#C8D4E3\"}, \"hoverlabel\": {\"align\": \"left\"}, \"hovermode\": \"closest\", \"mapbox\": {\"style\": \"light\"}, \"paper_bgcolor\": \"white\", \"plot_bgcolor\": \"white\", \"polar\": {\"angularaxis\": {\"gridcolor\": \"#EBF0F8\", \"linecolor\": \"#EBF0F8\", \"ticks\": \"\"}, \"bgcolor\": \"white\", \"radialaxis\": {\"gridcolor\": \"#EBF0F8\", \"linecolor\": \"#EBF0F8\", \"ticks\": \"\"}}, \"scene\": {\"xaxis\": {\"backgroundcolor\": \"white\", \"gridcolor\": \"#DFE8F3\", \"gridwidth\": 2, \"linecolor\": \"#EBF0F8\", \"showbackground\": true, \"ticks\": \"\", \"zerolinecolor\": \"#EBF0F8\"}, \"yaxis\": {\"backgroundcolor\": \"white\", \"gridcolor\": \"#DFE8F3\", \"gridwidth\": 2, \"linecolor\": \"#EBF0F8\", \"showbackground\": true, \"ticks\": \"\", \"zerolinecolor\": \"#EBF0F8\"}, \"zaxis\": {\"backgroundcolor\": \"white\", \"gridcolor\": \"#DFE8F3\", \"gridwidth\": 2, \"linecolor\": \"#EBF0F8\", \"showbackground\": true, \"ticks\": \"\", \"zerolinecolor\": \"#EBF0F8\"}}, \"shapedefaults\": {\"line\": {\"color\": \"#2a3f5f\"}}, \"ternary\": {\"aaxis\": {\"gridcolor\": \"#DFE8F3\", \"linecolor\": \"#A2B1C6\", \"ticks\": \"\"}, \"baxis\": {\"gridcolor\": \"#DFE8F3\", \"linecolor\": \"#A2B1C6\", \"ticks\": \"\"}, \"bgcolor\": \"white\", \"caxis\": {\"gridcolor\": \"#DFE8F3\", \"linecolor\": \"#A2B1C6\", \"ticks\": \"\"}}, \"title\": {\"x\": 0.05}, \"xaxis\": {\"automargin\": true, \"gridcolor\": \"#EBF0F8\", \"linecolor\": \"#EBF0F8\", \"ticks\": \"\", \"title\": {\"standoff\": 15}, \"zerolinecolor\": \"#EBF0F8\", \"zerolinewidth\": 2}, \"yaxis\": {\"automargin\": true, \"gridcolor\": \"#EBF0F8\", \"linecolor\": \"#EBF0F8\", \"ticks\": \"\", \"title\": {\"standoff\": 15}, \"zerolinecolor\": \"#EBF0F8\", \"zerolinewidth\": 2}}}, \"title\": {\"text\": \"Fahrzeughochlauf<br>alternativer Antriebstechnologien bis 2050\"}, \"width\": 1000.0629921378601, \"yaxis\": {\"showspikes\": true, \"tickfont\": {\"size\": 12}, \"title\": {\"text\": \"Mio. Stk.\"}}},\n",
       "                        {\"responsive\": true}\n",
       "                    ).then(function(){\n",
       "                            \n",
       "var gd = document.getElementById('ccfff368-1c4c-4ebf-97f1-bb282c4fab57');\n",
       "var x = new MutationObserver(function (mutations, observer) {{\n",
       "        var display = window.getComputedStyle(gd).display;\n",
       "        if (!display || display === 'none') {{\n",
       "            console.log([gd, 'removed!']);\n",
       "            Plotly.purge(gd);\n",
       "            observer.disconnect();\n",
       "        }}\n",
       "}});\n",
       "\n",
       "// Listen for the removal of the full notebook cells\n",
       "var notebookContainer = gd.closest('#notebook-container');\n",
       "if (notebookContainer) {{\n",
       "    x.observe(notebookContainer, {childList: true});\n",
       "}}\n",
       "\n",
       "// Listen for the clearing of the current output cell\n",
       "var outputEl = gd.closest('.output');\n",
       "if (outputEl) {{\n",
       "    x.observe(outputEl, {childList: true});\n",
       "}}\n",
       "\n",
       "                        })\n",
       "                };\n",
       "                });\n",
       "            </script>\n",
       "        </div>"
      ]
     },
     "metadata": {},
     "output_type": "display_data"
    }
   ],
   "source": [
    "# 2050 data\n",
    "df_RampUp_2050 = df_RampUp.loc[:,:,'2050-01-01']\n",
    "df_RampUp_2050 = df_RampUp_2050.dropna(how = 'all')\n",
    "df_RampUp_2050 = df_RampUp_2050.dropna(axis=1, how = 'all')\n",
    "\n",
    "# define xlabels\n",
    "xlabels = [list(df_RampUp_2050.index.get_level_values(0)),\n",
    "           list(df_RampUp_2050.index.get_level_values(1)),\n",
    "           df_RampUp_2050.index]\n",
    "\n",
    "fig = go.Figure()\n",
    "\n",
    "# create traces\n",
    "for idx, tech in enumerate(df_RampUp_2050.columns):\n",
    "    fig.add_trace(\n",
    "        go.Bar(\n",
    "            y=df_RampUp_2050[tech],\n",
    "            x=xlabels,\n",
    "            name=tech,\n",
    "            showlegend=True,\n",
    "            marker_color=RLI_CMAP_PRES[idx],\n",
    "            width=0.5,\n",
    "        )\n",
    "    )\n",
    "\n",
    "# specify layout\n",
    "fig.update_layout(\n",
    "    autosize=False,\n",
    "    width=1.5*width,\n",
    "    yaxis=dict(\n",
    "        titlefont_size=16,\n",
    "        tickfont_size=12,\n",
    "        title=\"Mio. Stk.\",\n",
    "        showspikes=True),\n",
    "    legend=dict(\n",
    "        orientation=\"h\",\n",
    "        yanchor=\"bottom\",\n",
    "        y=1.02,\n",
    "        xanchor=\"right\",\n",
    "        x=1\n",
    "    ),\n",
    "    title_text='Fahrzeughochlauf<br>alternativer Antriebstechnologien bis 2050',\n",
    "    template='plotly_white',\n",
    "    barmode='stack'\n",
    ")\n",
    "\n",
    "fig.write_image(\"images/RampUp-2050.svg\")\n",
    "fig.write_html(\"images/RampUp-2050.html\")\n",
    "\n",
    "fig.show()"
   ]
  },
  {
   "cell_type": "code",
   "execution_count": null,
   "metadata": {},
   "outputs": [],
   "source": []
  }
 ],
 "metadata": {
  "kernelspec": {
   "display_name": "Python 3",
   "language": "python",
   "name": "python3"
  },
  "language_info": {
   "codemirror_mode": {
    "name": "ipython",
    "version": 3
   },
   "file_extension": ".py",
   "mimetype": "text/x-python",
   "name": "python",
   "nbconvert_exporter": "python",
   "pygments_lexer": "ipython3",
   "version": "3.7.9"
  },
  "latex_envs": {
   "LaTeX_envs_menu_present": true,
   "autoclose": false,
   "autocomplete": true,
   "bibliofile": "biblio.bib",
   "cite_by": "apalike",
   "current_citInitial": 1,
   "eqLabelWithNumbers": true,
   "eqNumInitial": 1,
   "hotkeys": {
    "equation": "Ctrl-E",
    "itemize": "Ctrl-I"
   },
   "labels_anchors": false,
   "latex_user_defs": false,
   "report_style_numbering": false,
   "user_envs_cfg": false
  }
 },
 "nbformat": 4,
 "nbformat_minor": 4
}
