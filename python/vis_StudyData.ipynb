{
 "cells": [
  {
   "cell_type": "markdown",
   "metadata": {},
   "source": [
    "# Load Packages and set global settings"
   ]
  },
  {
   "cell_type": "code",
   "execution_count": 7,
   "metadata": {},
   "outputs": [],
   "source": [
    "import os\n",
    "import pandas as pd\n",
    "import plotly.express as px\n",
    "import plotly.offline as pyo\n",
    "import plotly.graph_objs as go"
   ]
  },
  {
   "cell_type": "markdown",
   "metadata": {},
   "source": [
    "# Global Variables"
   ]
  },
  {
   "cell_type": "code",
   "execution_count": 8,
   "metadata": {},
   "outputs": [],
   "source": [
    "# Path to the data Folder\n",
    "DataPath = '\\\\\\\\FS01\\\\UserShares\\\\Kilian.Helfenbein\\\\github\\\\MA-KH-RLI\\\\vis-recherche\\\\data\\\\'"
   ]
  },
  {
   "cell_type": "markdown",
   "metadata": {},
   "source": [
    "# Visualisation - EPkw Ramp-Up"
   ]
  },
  {
   "cell_type": "code",
   "execution_count": 9,
   "metadata": {
    "scrolled": true
   },
   "outputs": [],
   "source": [
    "# Read data and sum up different EPkw-Types\n",
    "df_RampUp = pd.read_excel(DataPath + 'RampUp.xlsx', parse_dates=[2], index_col=[0,1,2])\n",
    "lst_EPkw = list(df_RampUp)\n",
    "lst_EPkw.remove(\"FCV\")\n",
    "df_RampUp['Summe EPkw'] = df_RampUp[lst_EPkw].sum(axis=1)"
   ]
  },
  {
   "cell_type": "code",
   "execution_count": 10,
   "metadata": {},
   "outputs": [],
   "source": [
    "# create study-specific Dataframes\n",
    "lst_studies = df_RampUp.index.get_level_values(0).unique().tolist()\n",
    "lst_df_studies = [df_RampUp.loc[study] for study in lst_studies]"
   ]
  },
  {
   "cell_type": "code",
   "execution_count": 11,
   "metadata": {
    "code_folding": []
   },
   "outputs": [],
   "source": [
    "# pre-initialize vars\n",
    "lst_traces = [0]*len(lst_studies)\n",
    "idx = 0\n",
    "traces = list()\n",
    "\n",
    "# create traces\n",
    "for study in lst_studies:\n",
    "    df = lst_df_studies[idx]\n",
    "    lst_scenario = df.index.get_level_values(0).unique().tolist()\n",
    "\n",
    "    lst_traces[idx] = [go.Scatter(\n",
    "        x = df.loc[scenario].index,\n",
    "        y = df.loc[scenario]['Summe EPkw'],\n",
    "        mode = 'markers+lines',\n",
    "        name = study + ' Szenario ' + scenario\n",
    "    ) for scenario in lst_scenario]\n",
    "    \n",
    "    idx += 1\n",
    "\n",
    "# combine traces into one list\n",
    "for trace in lst_traces:\n",
    "    traces = traces + trace"
   ]
  },
  {
   "cell_type": "code",
   "execution_count": 12,
   "metadata": {
    "scrolled": false
   },
   "outputs": [
    {
     "data": {
      "text/plain": [
       "'temp-plot.html'"
      ]
     },
     "execution_count": 12,
     "metadata": {},
     "output_type": "execute_result"
    }
   ],
   "source": [
    "# Create figure and show plot\n",
    "layout = go.Layout(title = 'Prognose des Fahrzeughochlaufs von Elektroautos (ohne FCV) der untersuchten Studien je Szenario')\n",
    "figure = go.Figure(data = traces, layout = layout)\n",
    "pyo.plot(figure)"
   ]
  },
  {
   "cell_type": "code",
   "execution_count": null,
   "metadata": {},
   "outputs": [],
   "source": []
  }
 ],
 "metadata": {
  "kernelspec": {
   "display_name": "Python 3",
   "language": "python",
   "name": "python3"
  },
  "language_info": {
   "codemirror_mode": {
    "name": "ipython",
    "version": 3
   },
   "file_extension": ".py",
   "mimetype": "text/x-python",
   "name": "python",
   "nbconvert_exporter": "python",
   "pygments_lexer": "ipython3",
   "version": "3.7.9"
  },
  "latex_envs": {
   "LaTeX_envs_menu_present": true,
   "autoclose": false,
   "autocomplete": true,
   "bibliofile": "biblio.bib",
   "cite_by": "apalike",
   "current_citInitial": 1,
   "eqLabelWithNumbers": true,
   "eqNumInitial": 1,
   "hotkeys": {
    "equation": "Ctrl-E",
    "itemize": "Ctrl-I"
   },
   "labels_anchors": false,
   "latex_user_defs": false,
   "report_style_numbering": false,
   "user_envs_cfg": false
  }
 },
 "nbformat": 4,
 "nbformat_minor": 4
}
